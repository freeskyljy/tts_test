{
  "cells": [
    {
      "cell_type": "markdown",
      "id": "f79d99ef",
      "metadata": {
        "id": "f79d99ef"
      },
      "source": [
        "# Train your first 🐸 TTS model 💫\n",
        "\n",
        "### 👋 Hello and welcome to Coqui (🐸) TTS\n",
        "\n",
        "The goal of this notebook is to show you a **typical workflow** for **training** and **testing** a TTS model with 🐸.\n",
        "\n",
        "Let's train a very small model on a very small amount of data so we can iterate quickly.\n",
        "\n",
        "In this notebook, we will:\n",
        "\n",
        "1. Download data and format it for 🐸 TTS.\n",
        "2. Configure the training and testing runs.\n",
        "3. Train a new model.\n",
        "4. Test the model and display its performance.\n",
        "\n",
        "So, let's jump right in!\n"
      ]
    },
    {
      "cell_type": "code",
      "execution_count": 1,
      "id": "fa2aec78",
      "metadata": {
        "colab": {
          "base_uri": "https://localhost:8080/"
        },
        "id": "fa2aec78",
        "outputId": "ebbfa69b-a44f-4ac6-d28b-65b481e8d87f"
      },
      "outputs": [
        {
          "output_type": "stream",
          "name": "stdout",
          "text": [
            "Cloning into 'TTS'...\n",
            "remote: Enumerating objects: 28948, done.\u001b[K\n",
            "remote: Counting objects: 100% (162/162), done.\u001b[K\n",
            "remote: Compressing objects: 100% (127/127), done.\u001b[K\n",
            "remote: Total 28948 (delta 45), reused 128 (delta 29), pack-reused 28786\u001b[K\n",
            "Receiving objects: 100% (28948/28948), 129.69 MiB | 9.32 MiB/s, done.\n",
            "Resolving deltas: 100% (21044/21044), done.\n"
          ]
        }
      ],
      "source": [
        "## Install Coqui TTS\n",
        "!git clone https://github.com/coqui-ai/TTS"
      ]
    },
    {
      "cell_type": "code",
      "source": [
        "%cd TTS\n",
        "!make system-deps  # only on Linux systems.\n",
        "!make install"
      ],
      "metadata": {
        "colab": {
          "base_uri": "https://localhost:8080/"
        },
        "id": "K0NDkJrVl37l",
        "outputId": "0d4cea6b-05b3-487b-e70b-2584297434dc"
      },
      "id": "K0NDkJrVl37l",
      "execution_count": 1,
      "outputs": [
        {
          "output_type": "stream",
          "name": "stdout",
          "text": [
            "/content/TTS\n",
            "sudo apt-get install -y libsndfile1-dev\n",
            "Reading package lists... Done\n",
            "Building dependency tree       \n",
            "Reading state information... Done\n",
            "libsndfile1-dev is already the newest version (1.0.28-7ubuntu0.1).\n",
            "0 upgraded, 0 newly installed, 0 to remove and 19 not upgraded.\n",
            "pip install -e .[all]\n",
            "Looking in indexes: https://pypi.org/simple, https://us-python.pkg.dev/colab-wheels/public/simple/\n",
            "Obtaining file:///content/TTS\n",
            "  Installing build dependencies ... \u001b[?25l\u001b[?25hdone\n",
            "  Checking if build backend supports build_editable ... \u001b[?25l\u001b[?25hdone\n",
            "  Getting requirements to build wheel ... \u001b[?25l\u001b[?25hdone\n",
            "  Preparing metadata (pyproject.toml) ... \u001b[?25l\u001b[?25hdone\n",
            "Requirement already satisfied: inflect==5.6.0 in /usr/local/lib/python3.8/dist-packages (from TTS==0.11.1) (5.6.0)\n",
            "Requirement already satisfied: fsspec>=2021.04.0 in /usr/local/lib/python3.8/dist-packages (from TTS==0.11.1) (2023.1.0)\n",
            "Requirement already satisfied: jamo in /usr/local/lib/python3.8/dist-packages (from TTS==0.11.1) (0.4.1)\n",
            "Requirement already satisfied: g2pkk>=0.1.1 in /usr/local/lib/python3.8/dist-packages (from TTS==0.11.1) (0.1.2)\n",
            "Requirement already satisfied: packaging in /usr/local/lib/python3.8/dist-packages (from TTS==0.11.1) (23.0)\n",
            "Requirement already satisfied: cython==0.29.28 in /usr/local/lib/python3.8/dist-packages (from TTS==0.11.1) (0.29.28)\n",
            "Requirement already satisfied: flask in /usr/local/lib/python3.8/dist-packages (from TTS==0.11.1) (2.2.3)\n",
            "Requirement already satisfied: gruut[de]==2.2.3 in /usr/local/lib/python3.8/dist-packages (from TTS==0.11.1) (2.2.3)\n",
            "Requirement already satisfied: pyyaml in /usr/local/lib/python3.8/dist-packages (from TTS==0.11.1) (6.0)\n",
            "Requirement already satisfied: numpy==1.21.6 in /usr/local/lib/python3.8/dist-packages (from TTS==0.11.1) (1.21.6)\n",
            "Requirement already satisfied: torchaudio in /usr/local/lib/python3.8/dist-packages (from TTS==0.11.1) (0.13.1+cu116)\n",
            "Requirement already satisfied: pypinyin in /usr/local/lib/python3.8/dist-packages (from TTS==0.11.1) (0.48.0)\n",
            "Requirement already satisfied: librosa==0.8.0 in /usr/local/lib/python3.8/dist-packages (from TTS==0.11.1) (0.8.0)\n",
            "Requirement already satisfied: nltk in /usr/local/lib/python3.8/dist-packages (from TTS==0.11.1) (3.7)\n",
            "Requirement already satisfied: trainer==0.0.20 in /usr/local/lib/python3.8/dist-packages (from TTS==0.11.1) (0.0.20)\n",
            "Requirement already satisfied: mecab-python3==1.0.5 in /usr/local/lib/python3.8/dist-packages (from TTS==0.11.1) (1.0.5)\n",
            "Requirement already satisfied: scipy>=1.4.0 in /usr/local/lib/python3.8/dist-packages (from TTS==0.11.1) (1.7.3)\n",
            "Requirement already satisfied: pandas in /usr/local/lib/python3.8/dist-packages (from TTS==0.11.1) (1.3.5)\n",
            "Requirement already satisfied: matplotlib in /usr/local/lib/python3.8/dist-packages (from TTS==0.11.1) (3.5.3)\n",
            "Requirement already satisfied: umap-learn==0.5.1 in /usr/local/lib/python3.8/dist-packages (from TTS==0.11.1) (0.5.1)\n",
            "Requirement already satisfied: tqdm in /usr/local/lib/python3.8/dist-packages (from TTS==0.11.1) (4.64.1)\n",
            "Requirement already satisfied: soundfile in /usr/local/lib/python3.8/dist-packages (from TTS==0.11.1) (0.12.1)\n",
            "Requirement already satisfied: unidic-lite==1.0.8 in /usr/local/lib/python3.8/dist-packages (from TTS==0.11.1) (1.0.8)\n",
            "Requirement already satisfied: jieba in /usr/local/lib/python3.8/dist-packages (from TTS==0.11.1) (0.42.1)\n",
            "Collecting numba==0.55.1\n",
            "  Using cached numba-0.55.1-1-cp38-cp38-manylinux2014_x86_64.manylinux_2_17_x86_64.whl (3.4 MB)\n",
            "Requirement already satisfied: torch>=1.7 in /usr/local/lib/python3.8/dist-packages (from TTS==0.11.1) (1.13.1+cu116)\n",
            "Requirement already satisfied: anyascii in /usr/local/lib/python3.8/dist-packages (from TTS==0.11.1) (0.3.1)\n",
            "Requirement already satisfied: pysbd in /usr/local/lib/python3.8/dist-packages (from TTS==0.11.1) (0.3.4)\n",
            "Requirement already satisfied: coqpit>=0.0.16 in /usr/local/lib/python3.8/dist-packages (from TTS==0.11.1) (0.0.17)\n",
            "Requirement already satisfied: bokeh==1.4.0 in /usr/local/lib/python3.8/dist-packages (from TTS==0.11.1) (1.4.0)\n",
            "Requirement already satisfied: pylint==2.10.2 in /usr/local/lib/python3.8/dist-packages (from TTS==0.11.1) (2.10.2)\n",
            "Requirement already satisfied: coverage in /usr/local/lib/python3.8/dist-packages (from TTS==0.11.1) (7.2.1)\n",
            "Requirement already satisfied: black in /usr/local/lib/python3.8/dist-packages (from TTS==0.11.1) (23.1.0)\n",
            "Requirement already satisfied: nose2 in /usr/local/lib/python3.8/dist-packages (from TTS==0.11.1) (0.12.0)\n",
            "Requirement already satisfied: isort in /usr/local/lib/python3.8/dist-packages (from TTS==0.11.1) (5.12.0)\n",
            "Requirement already satisfied: six>=1.5.2 in /usr/local/lib/python3.8/dist-packages (from bokeh==1.4.0->TTS==0.11.1) (1.15.0)\n",
            "Requirement already satisfied: python-dateutil>=2.1 in /usr/local/lib/python3.8/dist-packages (from bokeh==1.4.0->TTS==0.11.1) (2.8.2)\n",
            "Requirement already satisfied: pillow>=4.0 in /usr/local/lib/python3.8/dist-packages (from bokeh==1.4.0->TTS==0.11.1) (8.4.0)\n",
            "Requirement already satisfied: tornado>=4.3 in /usr/local/lib/python3.8/dist-packages (from bokeh==1.4.0->TTS==0.11.1) (6.2)\n",
            "Requirement already satisfied: Jinja2>=2.7 in /usr/local/lib/python3.8/dist-packages (from bokeh==1.4.0->TTS==0.11.1) (3.1.2)\n",
            "Requirement already satisfied: python-crfsuite~=0.9.7 in /usr/local/lib/python3.8/dist-packages (from gruut[de]==2.2.3->TTS==0.11.1) (0.9.9)\n",
            "Requirement already satisfied: gruut-lang-en~=2.0.0 in /usr/local/lib/python3.8/dist-packages (from gruut[de]==2.2.3->TTS==0.11.1) (2.0.0)\n",
            "Requirement already satisfied: jsonlines~=1.2.0 in /usr/local/lib/python3.8/dist-packages (from gruut[de]==2.2.3->TTS==0.11.1) (1.2.0)\n",
            "Requirement already satisfied: Babel<3.0.0,>=2.8.0 in /usr/local/lib/python3.8/dist-packages (from gruut[de]==2.2.3->TTS==0.11.1) (2.11.0)\n",
            "Requirement already satisfied: networkx<3.0.0,>=2.5.0 in /usr/local/lib/python3.8/dist-packages (from gruut[de]==2.2.3->TTS==0.11.1) (2.8.8)\n",
            "Requirement already satisfied: gruut-ipa<1.0,>=0.12.0 in /usr/local/lib/python3.8/dist-packages (from gruut[de]==2.2.3->TTS==0.11.1) (0.13.0)\n",
            "Requirement already satisfied: importlib-resources in /usr/local/lib/python3.8/dist-packages (from gruut[de]==2.2.3->TTS==0.11.1) (5.12.0)\n",
            "Requirement already satisfied: num2words<1.0.0,>=0.5.10 in /usr/local/lib/python3.8/dist-packages (from gruut[de]==2.2.3->TTS==0.11.1) (0.5.12)\n",
            "Requirement already satisfied: dateparser~=1.1.0 in /usr/local/lib/python3.8/dist-packages (from gruut[de]==2.2.3->TTS==0.11.1) (1.1.7)\n",
            "Requirement already satisfied: gruut-lang-de~=2.0.0 in /usr/local/lib/python3.8/dist-packages (from gruut[de]==2.2.3->TTS==0.11.1) (2.0.0)\n",
            "Requirement already satisfied: audioread>=2.0.0 in /usr/local/lib/python3.8/dist-packages (from librosa==0.8.0->TTS==0.11.1) (3.0.0)\n",
            "Requirement already satisfied: scikit-learn!=0.19.0,>=0.14.0 in /usr/local/lib/python3.8/dist-packages (from librosa==0.8.0->TTS==0.11.1) (1.0.2)\n",
            "Requirement already satisfied: resampy>=0.2.2 in /usr/local/lib/python3.8/dist-packages (from librosa==0.8.0->TTS==0.11.1) (0.4.2)\n",
            "Requirement already satisfied: joblib>=0.14 in /usr/local/lib/python3.8/dist-packages (from librosa==0.8.0->TTS==0.11.1) (1.2.0)\n",
            "Requirement already satisfied: decorator>=3.0.0 in /usr/local/lib/python3.8/dist-packages (from librosa==0.8.0->TTS==0.11.1) (4.4.2)\n",
            "Requirement already satisfied: pooch>=1.0 in /usr/local/lib/python3.8/dist-packages (from librosa==0.8.0->TTS==0.11.1) (1.6.0)\n",
            "Requirement already satisfied: setuptools in /usr/local/lib/python3.8/dist-packages (from numba==0.55.1->TTS==0.11.1) (57.4.0)\n",
            "Requirement already satisfied: llvmlite<0.39,>=0.38.0rc1 in /usr/local/lib/python3.8/dist-packages (from numba==0.55.1->TTS==0.11.1) (0.38.1)\n",
            "Requirement already satisfied: astroid<2.8,>=2.7.2 in /usr/local/lib/python3.8/dist-packages (from pylint==2.10.2->TTS==0.11.1) (2.7.3)\n",
            "Requirement already satisfied: mccabe<0.7,>=0.6 in /usr/local/lib/python3.8/dist-packages (from pylint==2.10.2->TTS==0.11.1) (0.6.1)\n",
            "Requirement already satisfied: toml>=0.7.1 in /usr/local/lib/python3.8/dist-packages (from pylint==2.10.2->TTS==0.11.1) (0.10.2)\n",
            "Requirement already satisfied: platformdirs>=2.2.0 in /usr/local/lib/python3.8/dist-packages (from pylint==2.10.2->TTS==0.11.1) (3.0.0)\n",
            "Requirement already satisfied: tensorboardX in /usr/local/lib/python3.8/dist-packages (from trainer==0.0.20->TTS==0.11.1) (2.6)\n",
            "Requirement already satisfied: protobuf<3.20,>=3.9.2 in /usr/local/lib/python3.8/dist-packages (from trainer==0.0.20->TTS==0.11.1) (3.19.6)\n",
            "Requirement already satisfied: psutil in /usr/local/lib/python3.8/dist-packages (from trainer==0.0.20->TTS==0.11.1) (5.4.8)\n",
            "Requirement already satisfied: pynndescent>=0.5 in /usr/local/lib/python3.8/dist-packages (from umap-learn==0.5.1->TTS==0.11.1) (0.5.8)\n",
            "Requirement already satisfied: cffi>=1.0 in /usr/local/lib/python3.8/dist-packages (from soundfile->TTS==0.11.1) (1.15.1)\n",
            "Requirement already satisfied: typing-extensions in /usr/local/lib/python3.8/dist-packages (from torch>=1.7->TTS==0.11.1) (4.5.0)\n",
            "Requirement already satisfied: click>=8.0.0 in /usr/local/lib/python3.8/dist-packages (from black->TTS==0.11.1) (8.1.3)\n",
            "Requirement already satisfied: tomli>=1.1.0 in /usr/local/lib/python3.8/dist-packages (from black->TTS==0.11.1) (2.0.1)\n",
            "Requirement already satisfied: pathspec>=0.9.0 in /usr/local/lib/python3.8/dist-packages (from black->TTS==0.11.1) (0.11.0)\n",
            "Requirement already satisfied: mypy-extensions>=0.4.3 in /usr/local/lib/python3.8/dist-packages (from black->TTS==0.11.1) (1.0.0)\n",
            "Requirement already satisfied: Werkzeug>=2.2.2 in /usr/local/lib/python3.8/dist-packages (from flask->TTS==0.11.1) (2.2.3)\n",
            "Requirement already satisfied: importlib-metadata>=3.6.0 in /usr/local/lib/python3.8/dist-packages (from flask->TTS==0.11.1) (6.0.0)\n",
            "Requirement already satisfied: itsdangerous>=2.0 in /usr/local/lib/python3.8/dist-packages (from flask->TTS==0.11.1) (2.1.2)\n",
            "Requirement already satisfied: cycler>=0.10 in /usr/local/lib/python3.8/dist-packages (from matplotlib->TTS==0.11.1) (0.11.0)\n",
            "Requirement already satisfied: kiwisolver>=1.0.1 in /usr/local/lib/python3.8/dist-packages (from matplotlib->TTS==0.11.1) (1.4.4)\n",
            "Requirement already satisfied: fonttools>=4.22.0 in /usr/local/lib/python3.8/dist-packages (from matplotlib->TTS==0.11.1) (4.38.0)\n",
            "Requirement already satisfied: pyparsing>=2.2.1 in /usr/local/lib/python3.8/dist-packages (from matplotlib->TTS==0.11.1) (3.0.9)\n",
            "Requirement already satisfied: regex>=2021.8.3 in /usr/local/lib/python3.8/dist-packages (from nltk->TTS==0.11.1) (2022.6.2)\n",
            "Requirement already satisfied: pytz>=2017.3 in /usr/local/lib/python3.8/dist-packages (from pandas->TTS==0.11.1) (2022.7.1)\n",
            "Requirement already satisfied: wrapt<1.13,>=1.11 in /usr/local/lib/python3.8/dist-packages (from astroid<2.8,>=2.7.2->pylint==2.10.2->TTS==0.11.1) (1.12.1)\n",
            "Requirement already satisfied: lazy-object-proxy>=1.4.0 in /usr/local/lib/python3.8/dist-packages (from astroid<2.8,>=2.7.2->pylint==2.10.2->TTS==0.11.1) (1.9.0)\n",
            "Requirement already satisfied: pycparser in /usr/local/lib/python3.8/dist-packages (from cffi>=1.0->soundfile->TTS==0.11.1) (2.21)\n",
            "Requirement already satisfied: tzlocal in /usr/local/lib/python3.8/dist-packages (from dateparser~=1.1.0->gruut[de]==2.2.3->TTS==0.11.1) (1.5.1)\n",
            "Requirement already satisfied: zipp>=0.5 in /usr/local/lib/python3.8/dist-packages (from importlib-metadata>=3.6.0->flask->TTS==0.11.1) (3.15.0)\n",
            "Requirement already satisfied: MarkupSafe>=2.0 in /usr/local/lib/python3.8/dist-packages (from Jinja2>=2.7->bokeh==1.4.0->TTS==0.11.1) (2.1.2)\n",
            "Requirement already satisfied: docopt>=0.6.2 in /usr/local/lib/python3.8/dist-packages (from num2words<1.0.0,>=0.5.10->gruut[de]==2.2.3->TTS==0.11.1) (0.6.2)\n",
            "Requirement already satisfied: appdirs>=1.3.0 in /usr/local/lib/python3.8/dist-packages (from pooch>=1.0->librosa==0.8.0->TTS==0.11.1) (1.4.4)\n",
            "Requirement already satisfied: requests>=2.19.0 in /usr/local/lib/python3.8/dist-packages (from pooch>=1.0->librosa==0.8.0->TTS==0.11.1) (2.25.1)\n",
            "Requirement already satisfied: threadpoolctl>=2.0.0 in /usr/local/lib/python3.8/dist-packages (from scikit-learn!=0.19.0,>=0.14.0->librosa==0.8.0->TTS==0.11.1) (3.1.0)\n",
            "Requirement already satisfied: certifi>=2017.4.17 in /usr/local/lib/python3.8/dist-packages (from requests>=2.19.0->pooch>=1.0->librosa==0.8.0->TTS==0.11.1) (2022.12.7)\n",
            "Requirement already satisfied: chardet<5,>=3.0.2 in /usr/local/lib/python3.8/dist-packages (from requests>=2.19.0->pooch>=1.0->librosa==0.8.0->TTS==0.11.1) (4.0.0)\n",
            "Requirement already satisfied: idna<3,>=2.5 in /usr/local/lib/python3.8/dist-packages (from requests>=2.19.0->pooch>=1.0->librosa==0.8.0->TTS==0.11.1) (2.10)\n",
            "Requirement already satisfied: urllib3<1.27,>=1.21.1 in /usr/local/lib/python3.8/dist-packages (from requests>=2.19.0->pooch>=1.0->librosa==0.8.0->TTS==0.11.1) (1.26.14)\n",
            "Installing collected packages: numba, TTS\n",
            "  Attempting uninstall: numba\n",
            "    Found existing installation: numba 0.55.2\n",
            "    Uninstalling numba-0.55.2:\n",
            "      Successfully uninstalled numba-0.55.2\n",
            "  Attempting uninstall: TTS\n",
            "    Found existing installation: TTS 0.11.1\n",
            "    Uninstalling TTS-0.11.1:\n",
            "      Successfully uninstalled TTS-0.11.1\n",
            "  Running setup.py develop for TTS\n",
            "Successfully installed TTS numba-0.55.1\n"
          ]
        }
      ]
    },
    {
      "cell_type": "markdown",
      "id": "be5fe49c",
      "metadata": {
        "id": "be5fe49c"
      },
      "source": [
        "## ✅ Data Preparation\n",
        "\n",
        "### **First things first**: we need some data.\n",
        "\n",
        "We're training a Text-to-Speech model, so we need some _text_ and we need some _speech_. Specificially, we want _transcribed speech_. The speech must be divided into audio clips and each clip needs transcription. More details about data requirements such as recording characteristics, background noise abd vocabulary coverage can be found in the [🐸TTS documentation](https://tts.readthedocs.io/en/latest/formatting_your_dataset.html).\n",
        "\n",
        "If you have a single audio file and you need to **split** it into clips. It is also important to use a lossless audio file format to prevent compression artifacts. We recommend using **wav** file format.\n",
        "\n",
        "The data format we will be adopting for this tutorial is taken from the widely-used  **LJSpeech** dataset, where **waves** are collected under a folder:\n",
        "\n",
        "<span style=\"color:purple;font-size:15px\">\n",
        "/wavs<br /> \n",
        " &emsp;| - audio1.wav<br /> \n",
        " &emsp;| - audio2.wav<br /> \n",
        " &emsp;| - audio3.wav<br /> \n",
        "  ...<br /> \n",
        "</span>\n",
        "\n",
        "and a **metadata.csv** file will have the audio file name in parallel to the transcript, delimited by `|`: \n",
        " \n",
        "<span style=\"color:purple;font-size:15px\">\n",
        "# metadata.csv <br /> \n",
        "audio1|This is my sentence. <br /> \n",
        "audio2|This is maybe my sentence. <br /> \n",
        "audio3|This is certainly my sentence. <br /> \n",
        "audio4|Let this be your sentence. <br /> \n",
        "...\n",
        "</span>\n",
        "\n",
        "In the end, we should have the following **folder structure**:\n",
        "\n",
        "<span style=\"color:purple;font-size:15px\">\n",
        "/MyTTSDataset <br /> \n",
        "&emsp;| <br /> \n",
        "&emsp;| -> metadata.csv<br /> \n",
        "&emsp;| -> /wavs<br /> \n",
        "&emsp;&emsp;| -> audio1.wav<br /> \n",
        "&emsp;&emsp;| -> audio2.wav<br /> \n",
        "&emsp;&emsp;| ...<br /> \n",
        "</span>"
      ]
    },
    {
      "cell_type": "markdown",
      "id": "69501a10-3b53-4e75-ae66-90221d6f2271",
      "metadata": {
        "id": "69501a10-3b53-4e75-ae66-90221d6f2271"
      },
      "source": [
        "🐸TTS already provides tooling for the _LJSpeech_. if you use the same format, you can start training your models right away. <br /> \n",
        "\n",
        "After you collect and format your dataset, you need to check two things. Whether you need a **_formatter_** and a **_text_cleaner_**. <br /> The **_formatter_** loads the text file (created above) as a list and the **_text_cleaner_** performs a sequence of text normalization operations that converts the raw text into the spoken representation (e.g. converting numbers to text, acronyms, and symbols to the spoken format).\n",
        "\n",
        "If you use a different dataset format then the LJSpeech or the other public datasets that 🐸TTS supports, then you need to write your own **_formatter_** and  **_text_cleaner_**."
      ]
    },
    {
      "cell_type": "markdown",
      "id": "e7f226c8-4e55-48fa-937b-8415d539b17c",
      "metadata": {
        "id": "e7f226c8-4e55-48fa-937b-8415d539b17c"
      },
      "source": [
        "## ⏳️ Loading your dataset\n",
        "Load one of the dataset supported by 🐸TTS.\n",
        "\n",
        "We will start by defining dataset config and setting LJSpeech as our target dataset and define its path.\n"
      ]
    },
    {
      "cell_type": "markdown",
      "source": [
        "만약 밑에 하다가 character not found 뭐시기 뜨면 이거 실행시켜서 복붙 ㄱㄱ"
      ],
      "metadata": {
        "id": "JJEg0iMA9o5D"
      },
      "id": "JJEg0iMA9o5D"
    },
    {
      "cell_type": "code",
      "source": [
        "# pylint: disable=bad-option-value\n",
        "import argparse\n",
        "from argparse import RawTextHelpFormatter\n",
        "\n",
        "from TTS.config import load_config\n",
        "from TTS.tts.datasets import load_tts_samples\n",
        "\n",
        "parser = argparse.ArgumentParser(\n",
        "    description=\"\"\"Find all the unique characters or phonemes in a dataset.\\n\\n\"\"\"\n",
        "    \"\"\"\n",
        "Example runs:\n",
        "\n",
        "python TTS/bin/find_unique_chars.py --config_path config.json\n",
        "    \"\"\",\n",
        "    formatter_class=RawTextHelpFormatter,\n",
        ")\n",
        "# parser.add_argument(\"--config_path\", type=str, help=\"Path to dataset config file.\", required=True)\n",
        "# args = parser.parse_args()\n",
        "\n",
        "c = load_config('path/to/config.json')\n",
        "\n",
        "# load all datasets\n",
        "train_items, eval_items = load_tts_samples(\n",
        "    c.datasets, eval_split=True, eval_split_max_size=c.eval_split_max_size, eval_split_size=c.eval_split_size\n",
        ")\n",
        "\n",
        "items = train_items + eval_items\n",
        "\n",
        "texts = \"\".join(item[\"text\"] for item in items)\n",
        "chars = set(texts)\n",
        "lower_chars = filter(lambda c: c.islower(), chars)\n",
        "chars_force_lower = [c.lower() for c in chars]\n",
        "chars_force_lower = set(chars_force_lower)\n",
        "\n",
        "print(f\" > Number of unique characters: {len(chars)}\")\n",
        "print(f\" > Unique characters: {''.join(sorted(chars))}\")\n",
        "print(f\" > Unique lower characters: {''.join(sorted(lower_chars))}\")\n",
        "print(f\" > Unique all forced to lower characters: {''.join(sorted(chars_force_lower))}\")\n"
      ],
      "metadata": {
        "colab": {
          "base_uri": "https://localhost:8080/"
        },
        "id": "zVIw0fcGzZrg",
        "outputId": "85a43d37-825d-461d-e67c-8d81b1eb60a0"
      },
      "id": "zVIw0fcGzZrg",
      "execution_count": 2,
      "outputs": [
        {
          "output_type": "stream",
          "name": "stdout",
          "text": [
            " | > Found 2495 files in /content/TTS/tts_train_dir/test\n",
            " > Number of unique characters: 808\n",
            " > Unique characters: \n",
            " !-.0123456789?CDEFJNPRWXeghinortw~가각간갇갈감갑갓갔강갖같개거걱건걷걸검겁것게겜겠겨격결겸겼경계고곡곤곳공과관광괜괭굉교구국군굳굴굿궁권귀그극근글금급기긴길김깃깄깊까깎깐깔깜깝깨깽꺼껍껏껴꼈꼬꼭꽂꽉꽤꾸꿀꿔꿨뀌뀔끄끈끊끌끔끝끼낀낌나낚난날남낫났낮내냅냉냐냥너넌널넓넘넣네넥넨녀년녕노녹놀놈농높놓놔놨누눈눌눴느는늘능늦늪니닌닐님다닥단닫달닭닮담답당닿대댓댔더덕던덜덮데덴델도독돈돌동돼됐되된될됩두둑둘둠둥둬뒀뒤드든들듯등디딨딩따딱딴땀땅때땐떡떨떴떻떼또똑똘똥뜨뜬뜯뜻띄라란랄람랍랐랑랗래랬량러럭런럴럼럽렀렇레렉려력련렬렵렸령로록론롤롭료루룩류률륭르른를름릇릉리린릴림립릿링마막만많말맙맛망맞매맨머먹먼멀멈멋멍메멘멜며면멸명몇모목몬몰몸몹못몽무문묻물뭇뭐뭔뭘미민믿밀밌밍밑바박밖반받발밝밤밥방배밴밸버번벌법벗베벤벨벼벽변별볍보복본볼봅봐봤부분불붓붕붙브블비빈빌빛빠빡빨빵빼뺏뻐뻔뻘뻤뼈뽀뽑뿅뿌뿐쁘쁜삐삔사산살삼삽상새색샌생서석선설섬섭성세센셔션셨소속손솔송쇳쇼수숙술숫숲숴쉐쉬쉽슈슉스슨슬습슷시식신실싫심싶싸싹싼쌀쌉쌍써썼쎄쒯쓰쓴쓸씌씨씩아안않알암앗았앞애앤앨앰야약양얘얜어억언얻얼엄업없었에엔여역연열였영옆예옛오옥온올옮옵옷옹와완왔왕왜외왼요욕용우운울움웃워원월웠웬웰위유육율으은을음의이익인일읽임입잇있잉잊자작잔잖잘잠잡잤장잦재잼쟤쟨저적전절점접정제젠져졌조족존좀좁종좋좌죄죠주죽준줄중줘줬즈즉즘증지직진질짐집짓징짜짝쨌쩌쩐쩔쪽쫄쫙쭉쯤찌찍차착찮참창찾채책챙처천철첫청체첸쳐쳤초총최쵸추축충춰츄츠치칙친침칫카칸칼캐캔캡캤컨컴컵케켈켜켰코콘콜쾌쿠큐크큰클큼키킬킹타탄탈탐탑탕태택탭터턴털테텐텔템토톤톰통투튜트특튼틀티틴틸파판팔패팩퍼펑페펙펜편평폐포폭폰폼표풀품풍퓨프픈플픔피필핑하학한할함합핫항해햇했행향허험헷혀현협혔형호혹혼홀홈홉화확환활황횃회획효후훌훑휠휴흐흑흘흠흡희히힌힐힘\n",
            " > Unique lower characters: eghinortw\n",
            " > Unique all forced to lower characters: \n",
            " !-.0123456789?cdefghijnoprtwx~가각간갇갈감갑갓갔강갖같개거걱건걷걸검겁것게겜겠겨격결겸겼경계고곡곤곳공과관광괜괭굉교구국군굳굴굿궁권귀그극근글금급기긴길김깃깄깊까깎깐깔깜깝깨깽꺼껍껏껴꼈꼬꼭꽂꽉꽤꾸꿀꿔꿨뀌뀔끄끈끊끌끔끝끼낀낌나낚난날남낫났낮내냅냉냐냥너넌널넓넘넣네넥넨녀년녕노녹놀놈농높놓놔놨누눈눌눴느는늘능늦늪니닌닐님다닥단닫달닭닮담답당닿대댓댔더덕던덜덮데덴델도독돈돌동돼됐되된될됩두둑둘둠둥둬뒀뒤드든들듯등디딨딩따딱딴땀땅때땐떡떨떴떻떼또똑똘똥뜨뜬뜯뜻띄라란랄람랍랐랑랗래랬량러럭런럴럼럽렀렇레렉려력련렬렵렸령로록론롤롭료루룩류률륭르른를름릇릉리린릴림립릿링마막만많말맙맛망맞매맨머먹먼멀멈멋멍메멘멜며면멸명몇모목몬몰몸몹못몽무문묻물뭇뭐뭔뭘미민믿밀밌밍밑바박밖반받발밝밤밥방배밴밸버번벌법벗베벤벨벼벽변별볍보복본볼봅봐봤부분불붓붕붙브블비빈빌빛빠빡빨빵빼뺏뻐뻔뻘뻤뼈뽀뽑뿅뿌뿐쁘쁜삐삔사산살삼삽상새색샌생서석선설섬섭성세센셔션셨소속손솔송쇳쇼수숙술숫숲숴쉐쉬쉽슈슉스슨슬습슷시식신실싫심싶싸싹싼쌀쌉쌍써썼쎄쒯쓰쓴쓸씌씨씩아안않알암앗았앞애앤앨앰야약양얘얜어억언얻얼엄업없었에엔여역연열였영옆예옛오옥온올옮옵옷옹와완왔왕왜외왼요욕용우운울움웃워원월웠웬웰위유육율으은을음의이익인일읽임입잇있잉잊자작잔잖잘잠잡잤장잦재잼쟤쟨저적전절점접정제젠져졌조족존좀좁종좋좌죄죠주죽준줄중줘줬즈즉즘증지직진질짐집짓징짜짝쨌쩌쩐쩔쪽쫄쫙쭉쯤찌찍차착찮참창찾채책챙처천철첫청체첸쳐쳤초총최쵸추축충춰츄츠치칙친침칫카칸칼캐캔캡캤컨컴컵케켈켜켰코콘콜쾌쿠큐크큰클큼키킬킹타탄탈탐탑탕태택탭터턴털테텐텔템토톤톰통투튜트특튼틀티틴틸파판팔패팩퍼펑페펙펜편평폐포폭폰폼표풀품풍퓨프픈플픔피필핑하학한할함합핫항해햇했행향허험헷혀현협혔형호혹혼홀홈홉화확환활황횃회획효후훌훑휠휴흐흑흘흠흡희히힌힐힘\n"
          ]
        }
      ]
    },
    {
      "cell_type": "code",
      "execution_count": 2,
      "id": "b3cb0191-b8fc-4158-bd26-8423c2a8ba66",
      "metadata": {
        "id": "b3cb0191-b8fc-4158-bd26-8423c2a8ba66"
      },
      "outputs": [],
      "source": [
        "import os\n",
        "\n",
        "# BaseDatasetConfig: defines name, formatter and path of the dataset.\n",
        "from TTS.tts.configs.shared_configs import BaseDatasetConfig\n",
        "\n",
        "output_path = \"tts_train_dir\"\n",
        "if not os.path.exists(output_path):\n",
        "    os.makedirs(output_path)\n",
        "    "
      ]
    },
    {
      "cell_type": "code",
      "source": [
        "from google.colab import drive\n",
        "drive.mount('/content/drive')"
      ],
      "metadata": {
        "colab": {
          "base_uri": "https://localhost:8080/"
        },
        "id": "RB6pNx8rs98m",
        "outputId": "0086eefd-af1a-4f45-920b-5420525cbfb1"
      },
      "id": "RB6pNx8rs98m",
      "execution_count": 4,
      "outputs": [
        {
          "output_type": "stream",
          "name": "stdout",
          "text": [
            "Mounted at /content/drive\n"
          ]
        }
      ]
    },
    {
      "cell_type": "code",
      "source": [
        "%cd tts_train_dir\n",
        "if not os.path.exists(\"test\"):\n",
        "    os.makedirs(\"test\")\n",
        "%cd test"
      ],
      "metadata": {
        "colab": {
          "base_uri": "https://localhost:8080/"
        },
        "id": "iZtbUSTw_b3K",
        "outputId": "c659fcfa-b334-4436-db2c-dcb27cd8ecbd"
      },
      "id": "iZtbUSTw_b3K",
      "execution_count": 3,
      "outputs": [
        {
          "output_type": "stream",
          "name": "stdout",
          "text": [
            "/content/TTS/tts_train_dir\n",
            "/content/TTS/tts_train_dir/test\n"
          ]
        }
      ]
    },
    {
      "cell_type": "code",
      "source": [
        "!sudo apt-get install p7zip-full\n",
        "!7z x /content/drive/MyDrive/dataset.zip"
      ],
      "metadata": {
        "id": "oWcP67sys6Zf",
        "colab": {
          "base_uri": "https://localhost:8080/"
        },
        "outputId": "f5c23239-99a9-446b-b228-8326746e1321"
      },
      "id": "oWcP67sys6Zf",
      "execution_count": 6,
      "outputs": [
        {
          "output_type": "stream",
          "name": "stdout",
          "text": [
            "Reading package lists... Done\n",
            "Building dependency tree       \n",
            "Reading state information... Done\n",
            "p7zip-full is already the newest version (16.02+dfsg-7build1).\n",
            "0 upgraded, 0 newly installed, 0 to remove and 19 not upgraded.\n",
            "\n",
            "7-Zip [64] 16.02 : Copyright (c) 1999-2016 Igor Pavlov : 2016-05-21\n",
            "p7zip Version 16.02 (locale=en_US.UTF-8,Utf16=on,HugeFiles=on,64 bits,2 CPUs Intel(R) Xeon(R) CPU @ 2.20GHz (406F0),ASM,AES-NI)\n",
            "\n",
            "Scanning the drive for archives:\n",
            "  0M Scan /content/drive/MyDrive/\b\b\b\b\b\b\b\b\b\b\b\b\b\b\b\b\b\b\b\b\b\b\b\b\b\b\b\b\b\b\b\b\b                                 \b\b\b\b\b\b\b\b\b\b\b\b\b\b\b\b\b\b\b\b\b\b\b\b\b\b\b\b\b\b\b\b\b1 file, 562400110 bytes (537 MiB)\n",
            "\n",
            "Extracting archive: /content/drive/MyDrive/dataset.zip\n",
            "--\n",
            "Path = /content/drive/MyDrive/dataset.zip\n",
            "Type = zip\n",
            "Physical Size = 562400110\n",
            "\n",
            "  0%\b\b\b\b    \b\b\b\b  1% 66\b\b\b\b\b\b\b       \b\b\b\b\b\b\b  2% 142 - wavs/1_0140.wav\b\b\b\b\b\b\b\b\b\b\b\b\b\b\b\b\b\b\b\b\b\b\b\b\b\b                          \b\b\b\b\b\b\b\b\b\b\b\b\b\b\b\b\b\b\b\b\b\b\b\b\b\b  4% 200 - wavs/1_0198.wav\b\b\b\b\b\b\b\b\b\b\b\b\b\b\b\b\b\b\b\b\b\b\b\b\b\b                          \b\b\b\b\b\b\b\b\b\b\b\b\b\b\b\b\b\b\b\b\b\b\b\b\b\b  5% 249 - wavs/1_0247.wav\b\b\b\b\b\b\b\b\b\b\b\b\b\b\b\b\b\b\b\b\b\b\b\b\b\b                          \b\b\b\b\b\b\b\b\b\b\b\b\b\b\b\b\b\b\b\b\b\b\b\b\b\b  6% 285 - wavs/1_0283.wav\b\b\b\b\b\b\b\b\b\b\b\b\b\b\b\b\b\b\b\b\b\b\b\b\b\b                          \b\b\b\b\b\b\b\b\b\b\b\b\b\b\b\b\b\b\b\b\b\b\b\b\b\b  8% 322 - wavs/1_0320.wav\b\b\b\b\b\b\b\b\b\b\b\b\b\b\b\b\b\b\b\b\b\b\b\b\b\b                          \b\b\b\b\b\b\b\b\b\b\b\b\b\b\b\b\b\b\b\b\b\b\b\b\b\b 10% 358 - wavs/1_0356.wav\b\b\b\b\b\b\b\b\b\b\b\b\b\b\b\b\b\b\b\b\b\b\b\b\b\b                          \b\b\b\b\b\b\b\b\b\b\b\b\b\b\b\b\b\b\b\b\b\b\b\b\b\b 11% 387 - wavs/1_0385.wav\b\b\b\b\b\b\b\b\b\b\b\b\b\b\b\b\b\b\b\b\b\b\b\b\b\b                          \b\b\b\b\b\b\b\b\b\b\b\b\b\b\b\b\b\b\b\b\b\b\b\b\b\b 12% 404 - wavs/1_0402.wav\b\b\b\b\b\b\b\b\b\b\b\b\b\b\b\b\b\b\b\b\b\b\b\b\b\b                          \b\b\b\b\b\b\b\b\b\b\b\b\b\b\b\b\b\b\b\b\b\b\b\b\b\b 12% 408 - wavs/1_0406.wav\b\b\b\b\b\b\b\b\b\b\b\b\b\b\b\b\b\b\b\b\b\b\b\b\b\b                          \b\b\b\b\b\b\b\b\b\b\b\b\b\b\b\b\b\b\b\b\b\b\b\b\b\b 13% 434 - wavs/1_0432.wav\b\b\b\b\b\b\b\b\b\b\b\b\b\b\b\b\b\b\b\b\b\b\b\b\b\b                          \b\b\b\b\b\b\b\b\b\b\b\b\b\b\b\b\b\b\b\b\b\b\b\b\b\b 14% 479 - wavs/1_0477.wav\b\b\b\b\b\b\b\b\b\b\b\b\b\b\b\b\b\b\b\b\b\b\b\b\b\b                          \b\b\b\b\b\b\b\b\b\b\b\b\b\b\b\b\b\b\b\b\b\b\b\b\b\b 16% 521 - wavs/1_0519.wav\b\b\b\b\b\b\b\b\b\b\b\b\b\b\b\b\b\b\b\b\b\b\b\b\b\b                          \b\b\b\b\b\b\b\b\b\b\b\b\b\b\b\b\b\b\b\b\b\b\b\b\b\b 17% 562 - wavs/1_0560.wav\b\b\b\b\b\b\b\b\b\b\b\b\b\b\b\b\b\b\b\b\b\b\b\b\b\b                          \b\b\b\b\b\b\b\b\b\b\b\b\b\b\b\b\b\b\b\b\b\b\b\b\b\b 18% 599 - wavs/1_0597.wav\b\b\b\b\b\b\b\b\b\b\b\b\b\b\b\b\b\b\b\b\b\b\b\b\b\b                          \b\b\b\b\b\b\b\b\b\b\b\b\b\b\b\b\b\b\b\b\b\b\b\b\b\b 20% 632 - wavs/1_0630.wav\b\b\b\b\b\b\b\b\b\b\b\b\b\b\b\b\b\b\b\b\b\b\b\b\b\b                          \b\b\b\b\b\b\b\b\b\b\b\b\b\b\b\b\b\b\b\b\b\b\b\b\b\b 21% 672 - wavs/1_0670.wav\b\b\b\b\b\b\b\b\b\b\b\b\b\b\b\b\b\b\b\b\b\b\b\b\b\b                          \b\b\b\b\b\b\b\b\b\b\b\b\b\b\b\b\b\b\b\b\b\b\b\b\b\b 22% 705 - wavs/1_0703.wav\b\b\b\b\b\b\b\b\b\b\b\b\b\b\b\b\b\b\b\b\b\b\b\b\b\b                          \b\b\b\b\b\b\b\b\b\b\b\b\b\b\b\b\b\b\b\b\b\b\b\b\b\b 24% 740 - wavs/1_0738.wav\b\b\b\b\b\b\b\b\b\b\b\b\b\b\b\b\b\b\b\b\b\b\b\b\b\b                          \b\b\b\b\b\b\b\b\b\b\b\b\b\b\b\b\b\b\b\b\b\b\b\b\b\b 25% 778 - wavs/1_0776.wav\b\b\b\b\b\b\b\b\b\b\b\b\b\b\b\b\b\b\b\b\b\b\b\b\b\b                          \b\b\b\b\b\b\b\b\b\b\b\b\b\b\b\b\b\b\b\b\b\b\b\b\b\b 26% 827 - wavs/1_0825.wav\b\b\b\b\b\b\b\b\b\b\b\b\b\b\b\b\b\b\b\b\b\b\b\b\b\b                          \b\b\b\b\b\b\b\b\b\b\b\b\b\b\b\b\b\b\b\b\b\b\b\b\b\b 28% 852 - wavs/1_0850.wav\b\b\b\b\b\b\b\b\b\b\b\b\b\b\b\b\b\b\b\b\b\b\b\b\b\b                          \b\b\b\b\b\b\b\b\b\b\b\b\b\b\b\b\b\b\b\b\b\b\b\b\b\b 29% 882 - wavs/1_0880.wav\b\b\b\b\b\b\b\b\b\b\b\b\b\b\b\b\b\b\b\b\b\b\b\b\b\b                          \b\b\b\b\b\b\b\b\b\b\b\b\b\b\b\b\b\b\b\b\b\b\b\b\b\b 29% 889 - wavs/1_0887.wav\b\b\b\b\b\b\b\b\b\b\b\b\b\b\b\b\b\b\b\b\b\b\b\b\b\b                          \b\b\b\b\b\b\b\b\b\b\b\b\b\b\b\b\b\b\b\b\b\b\b\b\b\b 30% 900 - wavs/1_0898.wav\b\b\b\b\b\b\b\b\b\b\b\b\b\b\b\b\b\b\b\b\b\b\b\b\b\b                          \b\b\b\b\b\b\b\b\b\b\b\b\b\b\b\b\b\b\b\b\b\b\b\b\b\b 30% 920 - wavs/1_0918.wav\b\b\b\b\b\b\b\b\b\b\b\b\b\b\b\b\b\b\b\b\b\b\b\b\b\b                          \b\b\b\b\b\b\b\b\b\b\b\b\b\b\b\b\b\b\b\b\b\b\b\b\b\b 31% 930 - wavs/1_0928.wav\b\b\b\b\b\b\b\b\b\b\b\b\b\b\b\b\b\b\b\b\b\b\b\b\b\b                          \b\b\b\b\b\b\b\b\b\b\b\b\b\b\b\b\b\b\b\b\b\b\b\b\b\b 31% 938 - wavs/1_0936.wav\b\b\b\b\b\b\b\b\b\b\b\b\b\b\b\b\b\b\b\b\b\b\b\b\b\b                          \b\b\b\b\b\b\b\b\b\b\b\b\b\b\b\b\b\b\b\b\b\b\b\b\b\b 32% 954 - wavs/1_0952.wav\b\b\b\b\b\b\b\b\b\b\b\b\b\b\b\b\b\b\b\b\b\b\b\b\b\b                          \b\b\b\b\b\b\b\b\b\b\b\b\b\b\b\b\b\b\b\b\b\b\b\b\b\b 32% 964 - wavs/1_0962.wav\b\b\b\b\b\b\b\b\b\b\b\b\b\b\b\b\b\b\b\b\b\b\b\b\b\b                          \b\b\b\b\b\b\b\b\b\b\b\b\b\b\b\b\b\b\b\b\b\b\b\b\b\b 33% 994 - wavs/1_0992.wav\b\b\b\b\b\b\b\b\b\b\b\b\b\b\b\b\b\b\b\b\b\b\b\b\b\b                          \b\b\b\b\b\b\b\b\b\b\b\b\b\b\b\b\b\b\b\b\b\b\b\b\b\b 34% 1009 - wavs/1_1007.wav\b\b\b\b\b\b\b\b\b\b\b\b\b\b\b\b\b\b\b\b\b\b\b\b\b\b\b                           \b\b\b\b\b\b\b\b\b\b\b\b\b\b\b\b\b\b\b\b\b\b\b\b\b\b\b 34% 1023 - wavs/1_1021.wav\b\b\b\b\b\b\b\b\b\b\b\b\b\b\b\b\b\b\b\b\b\b\b\b\b\b\b                           \b\b\b\b\b\b\b\b\b\b\b\b\b\b\b\b\b\b\b\b\b\b\b\b\b\b\b 35% 1054 - wavs/1_1052.wav\b\b\b\b\b\b\b\b\b\b\b\b\b\b\b\b\b\b\b\b\b\b\b\b\b\b\b                           \b\b\b\b\b\b\b\b\b\b\b\b\b\b\b\b\b\b\b\b\b\b\b\b\b\b\b 36% 1078 - wavs/1_1076.wav\b\b\b\b\b\b\b\b\b\b\b\b\b\b\b\b\b\b\b\b\b\b\b\b\b\b\b                           \b\b\b\b\b\b\b\b\b\b\b\b\b\b\b\b\b\b\b\b\b\b\b\b\b\b\b 37% 1099 - wavs/1_1097.wav\b\b\b\b\b\b\b\b\b\b\b\b\b\b\b\b\b\b\b\b\b\b\b\b\b\b\b                           \b\b\b\b\b\b\b\b\b\b\b\b\b\b\b\b\b\b\b\b\b\b\b\b\b\b\b 38% 1115 - wavs/1_1113.wav\b\b\b\b\b\b\b\b\b\b\b\b\b\b\b\b\b\b\b\b\b\b\b\b\b\b\b                           \b\b\b\b\b\b\b\b\b\b\b\b\b\b\b\b\b\b\b\b\b\b\b\b\b\b\b 39% 1139 - wavs/1_1137.wav\b\b\b\b\b\b\b\b\b\b\b\b\b\b\b\b\b\b\b\b\b\b\b\b\b\b\b                           \b\b\b\b\b\b\b\b\b\b\b\b\b\b\b\b\b\b\b\b\b\b\b\b\b\b\b 40% 1149 - wavs/1_1147.wav\b\b\b\b\b\b\b\b\b\b\b\b\b\b\b\b\b\b\b\b\b\b\b\b\b\b\b                           \b\b\b\b\b\b\b\b\b\b\b\b\b\b\b\b\b\b\b\b\b\b\b\b\b\b\b 41% 1168 - wavs/1_1166.wav\b\b\b\b\b\b\b\b\b\b\b\b\b\b\b\b\b\b\b\b\b\b\b\b\b\b\b                           \b\b\b\b\b\b\b\b\b\b\b\b\b\b\b\b\b\b\b\b\b\b\b\b\b\b\b 42% 1197 - wavs/1_1195.wav\b\b\b\b\b\b\b\b\b\b\b\b\b\b\b\b\b\b\b\b\b\b\b\b\b\b\b                           \b\b\b\b\b\b\b\b\b\b\b\b\b\b\b\b\b\b\b\b\b\b\b\b\b\b\b 43% 1237 - wavs/1_1235.wav\b\b\b\b\b\b\b\b\b\b\b\b\b\b\b\b\b\b\b\b\b\b\b\b\b\b\b                           \b\b\b\b\b\b\b\b\b\b\b\b\b\b\b\b\b\b\b\b\b\b\b\b\b\b\b 45% 1281 - wavs/1_1279.wav\b\b\b\b\b\b\b\b\b\b\b\b\b\b\b\b\b\b\b\b\b\b\b\b\b\b\b                           \b\b\b\b\b\b\b\b\b\b\b\b\b\b\b\b\b\b\b\b\b\b\b\b\b\b\b 46% 1307 - wavs/1_1305.wav\b\b\b\b\b\b\b\b\b\b\b\b\b\b\b\b\b\b\b\b\b\b\b\b\b\b\b                           \b\b\b\b\b\b\b\b\b\b\b\b\b\b\b\b\b\b\b\b\b\b\b\b\b\b\b 47% 1353 - wavs/1_1351.wav\b\b\b\b\b\b\b\b\b\b\b\b\b\b\b\b\b\b\b\b\b\b\b\b\b\b\b                           \b\b\b\b\b\b\b\b\b\b\b\b\b\b\b\b\b\b\b\b\b\b\b\b\b\b\b 49% 1400 - wavs/1_1398.wav\b\b\b\b\b\b\b\b\b\b\b\b\b\b\b\b\b\b\b\b\b\b\b\b\b\b\b                           \b\b\b\b\b\b\b\b\b\b\b\b\b\b\b\b\b\b\b\b\b\b\b\b\b\b\b 50% 1438 - wavs/1_1436.wav\b\b\b\b\b\b\b\b\b\b\b\b\b\b\b\b\b\b\b\b\b\b\b\b\b\b\b                           \b\b\b\b\b\b\b\b\b\b\b\b\b\b\b\b\b\b\b\b\b\b\b\b\b\b\b 52% 1482 - wavs/1_1480.wav\b\b\b\b\b\b\b\b\b\b\b\b\b\b\b\b\b\b\b\b\b\b\b\b\b\b\b                           \b\b\b\b\b\b\b\b\b\b\b\b\b\b\b\b\b\b\b\b\b\b\b\b\b\b\b 54% 1528 - wavs/1_1526.wav\b\b\b\b\b\b\b\b\b\b\b\b\b\b\b\b\b\b\b\b\b\b\b\b\b\b\b                           \b\b\b\b\b\b\b\b\b\b\b\b\b\b\b\b\b\b\b\b\b\b\b\b\b\b\b 56% 1555 - wavs/1_1553.wav\b\b\b\b\b\b\b\b\b\b\b\b\b\b\b\b\b\b\b\b\b\b\b\b\b\b\b                           \b\b\b\b\b\b\b\b\b\b\b\b\b\b\b\b\b\b\b\b\b\b\b\b\b\b\b 57% 1589 - wavs/1_1587.wav\b\b\b\b\b\b\b\b\b\b\b\b\b\b\b\b\b\b\b\b\b\b\b\b\b\b\b                           \b\b\b\b\b\b\b\b\b\b\b\b\b\b\b\b\b\b\b\b\b\b\b\b\b\b\b 59% 1622 - wavs/1_1620.wav\b\b\b\b\b\b\b\b\b\b\b\b\b\b\b\b\b\b\b\b\b\b\b\b\b\b\b                           \b\b\b\b\b\b\b\b\b\b\b\b\b\b\b\b\b\b\b\b\b\b\b\b\b\b\b 61% 1666 - wavs/1_1664.wav\b\b\b\b\b\b\b\b\b\b\b\b\b\b\b\b\b\b\b\b\b\b\b\b\b\b\b                           \b\b\b\b\b\b\b\b\b\b\b\b\b\b\b\b\b\b\b\b\b\b\b\b\b\b\b 62% 1687 - wavs/1_1685.wav\b\b\b\b\b\b\b\b\b\b\b\b\b\b\b\b\b\b\b\b\b\b\b\b\b\b\b                           \b\b\b\b\b\b\b\b\b\b\b\b\b\b\b\b\b\b\b\b\b\b\b\b\b\b\b 63% 1713 - wavs/1_1711.wav\b\b\b\b\b\b\b\b\b\b\b\b\b\b\b\b\b\b\b\b\b\b\b\b\b\b\b                           \b\b\b\b\b\b\b\b\b\b\b\b\b\b\b\b\b\b\b\b\b\b\b\b\b\b\b 65% 1753 - wavs/1_1751.wav\b\b\b\b\b\b\b\b\b\b\b\b\b\b\b\b\b\b\b\b\b\b\b\b\b\b\b                           \b\b\b\b\b\b\b\b\b\b\b\b\b\b\b\b\b\b\b\b\b\b\b\b\b\b\b 67% 1778 - wavs/1_1776.wav\b\b\b\b\b\b\b\b\b\b\b\b\b\b\b\b\b\b\b\b\b\b\b\b\b\b\b                           \b\b\b\b\b\b\b\b\b\b\b\b\b\b\b\b\b\b\b\b\b\b\b\b\b\b\b 69% 1839 - wavs/1_1837.wav\b\b\b\b\b\b\b\b\b\b\b\b\b\b\b\b\b\b\b\b\b\b\b\b\b\b\b                           \b\b\b\b\b\b\b\b\b\b\b\b\b\b\b\b\b\b\b\b\b\b\b\b\b\b\b 71% 1887 - wavs/1_1885.wav\b\b\b\b\b\b\b\b\b\b\b\b\b\b\b\b\b\b\b\b\b\b\b\b\b\b\b                           \b\b\b\b\b\b\b\b\b\b\b\b\b\b\b\b\b\b\b\b\b\b\b\b\b\b\b 73% 1914 - wavs/1_1912.wav\b\b\b\b\b\b\b\b\b\b\b\b\b\b\b\b\b\b\b\b\b\b\b\b\b\b\b                           \b\b\b\b\b\b\b\b\b\b\b\b\b\b\b\b\b\b\b\b\b\b\b\b\b\b\b 74% 1943 - wavs/1_1941.wav\b\b\b\b\b\b\b\b\b\b\b\b\b\b\b\b\b\b\b\b\b\b\b\b\b\b\b                           \b\b\b\b\b\b\b\b\b\b\b\b\b\b\b\b\b\b\b\b\b\b\b\b\b\b\b 76% 1969 - wavs/1_1967.wav\b\b\b\b\b\b\b\b\b\b\b\b\b\b\b\b\b\b\b\b\b\b\b\b\b\b\b                           \b\b\b\b\b\b\b\b\b\b\b\b\b\b\b\b\b\b\b\b\b\b\b\b\b\b\b 78% 1995 - wavs/1_1993.wav\b\b\b\b\b\b\b\b\b\b\b\b\b\b\b\b\b\b\b\b\b\b\b\b\b\b\b                           \b\b\b\b\b\b\b\b\b\b\b\b\b\b\b\b\b\b\b\b\b\b\b\b\b\b\b 79% 2022 - wavs/1_2020.wav\b\b\b\b\b\b\b\b\b\b\b\b\b\b\b\b\b\b\b\b\b\b\b\b\b\b\b                           \b\b\b\b\b\b\b\b\b\b\b\b\b\b\b\b\b\b\b\b\b\b\b\b\b\b\b 81% 2051 - wavs/1_2049.wav\b\b\b\b\b\b\b\b\b\b\b\b\b\b\b\b\b\b\b\b\b\b\b\b\b\b\b                           \b\b\b\b\b\b\b\b\b\b\b\b\b\b\b\b\b\b\b\b\b\b\b\b\b\b\b 82% 2090 - wavs/1_2088.wav\b\b\b\b\b\b\b\b\b\b\b\b\b\b\b\b\b\b\b\b\b\b\b\b\b\b\b                           \b\b\b\b\b\b\b\b\b\b\b\b\b\b\b\b\b\b\b\b\b\b\b\b\b\b\b 84% 2138 - wavs/1_2136.wav\b\b\b\b\b\b\b\b\b\b\b\b\b\b\b\b\b\b\b\b\b\b\b\b\b\b\b                           \b\b\b\b\b\b\b\b\b\b\b\b\b\b\b\b\b\b\b\b\b\b\b\b\b\b\b 86% 2170 - wavs/1_2168.wav\b\b\b\b\b\b\b\b\b\b\b\b\b\b\b\b\b\b\b\b\b\b\b\b\b\b\b                           \b\b\b\b\b\b\b\b\b\b\b\b\b\b\b\b\b\b\b\b\b\b\b\b\b\b\b 87% 2210 - wavs/1_2208.wav\b\b\b\b\b\b\b\b\b\b\b\b\b\b\b\b\b\b\b\b\b\b\b\b\b\b\b                           \b\b\b\b\b\b\b\b\b\b\b\b\b\b\b\b\b\b\b\b\b\b\b\b\b\b\b 89% 2247 - wavs/1_2245.wav\b\b\b\b\b\b\b\b\b\b\b\b\b\b\b\b\b\b\b\b\b\b\b\b\b\b\b                           \b\b\b\b\b\b\b\b\b\b\b\b\b\b\b\b\b\b\b\b\b\b\b\b\b\b\b 91% 2280 - wavs/1_2278.wav\b\b\b\b\b\b\b\b\b\b\b\b\b\b\b\b\b\b\b\b\b\b\b\b\b\b\b                           \b\b\b\b\b\b\b\b\b\b\b\b\b\b\b\b\b\b\b\b\b\b\b\b\b\b\b 93% 2315 - wavs/1_2313.wav\b\b\b\b\b\b\b\b\b\b\b\b\b\b\b\b\b\b\b\b\b\b\b\b\b\b\b                           \b\b\b\b\b\b\b\b\b\b\b\b\b\b\b\b\b\b\b\b\b\b\b\b\b\b\b 94% 2342 - wavs/1_2340.wav\b\b\b\b\b\b\b\b\b\b\b\b\b\b\b\b\b\b\b\b\b\b\b\b\b\b\b                           \b\b\b\b\b\b\b\b\b\b\b\b\b\b\b\b\b\b\b\b\b\b\b\b\b\b\b 96% 2375 - wavs/1_2373.wav\b\b\b\b\b\b\b\b\b\b\b\b\b\b\b\b\b\b\b\b\b\b\b\b\b\b\b                           \b\b\b\b\b\b\b\b\b\b\b\b\b\b\b\b\b\b\b\b\b\b\b\b\b\b\b 98% 2421 - wavs/1_2419.wav\b\b\b\b\b\b\b\b\b\b\b\b\b\b\b\b\b\b\b\b\b\b\b\b\b\b\b                           \b\b\b\b\b\b\b\b\b\b\b\b\b\b\b\b\b\b\b\b\b\b\b\b\b\b\b 99% 2479 - wavs/1_2477.wav\b\b\b\b\b\b\b\b\b\b\b\b\b\b\b\b\b\b\b\b\b\b\b\b\b\b\b                           \b\b\b\b\b\b\b\b\b\b\b\b\b\b\b\b\b\b\b\b\b\b\b\b\b\b\bEverything is Ok\n",
            "\n",
            "Folders: 1\n",
            "Files: 2496\n",
            "Size:       797587109\n",
            "Compressed: 562400110\n"
          ]
        }
      ]
    },
    {
      "cell_type": "code",
      "source": [
        "%cd .."
      ],
      "metadata": {
        "colab": {
          "base_uri": "https://localhost:8080/"
        },
        "id": "VxrXqGxo1Sfm",
        "outputId": "e9433477-7f39-41e6-b320-e5a493a994a8"
      },
      "id": "VxrXqGxo1Sfm",
      "execution_count": 5,
      "outputs": [
        {
          "output_type": "stream",
          "name": "stdout",
          "text": [
            "/content/TTS/tts_train_dir\n"
          ]
        }
      ]
    },
    {
      "cell_type": "code",
      "execution_count": 4,
      "id": "76cd3ab5-6387-45f1-b488-24734cc1beb5",
      "metadata": {
        "id": "76cd3ab5-6387-45f1-b488-24734cc1beb5"
      },
      "outputs": [],
      "source": [
        "dataset_config = BaseDatasetConfig(\n",
        "    formatter=\"ljspeech\", meta_file_train=\"/content/TTS/tts_train_dir/test/metadata.txt\", path=os.path.join(output_path, \"test\")\n",
        ")"
      ]
    },
    {
      "cell_type": "markdown",
      "id": "ae82fd75",
      "metadata": {
        "id": "ae82fd75"
      },
      "source": [
        "## ✅ Train a new model\n",
        "\n",
        "Let's kick off a training run 🚀🚀🚀.\n",
        "\n",
        "Deciding on the model architecture you'd want to use is based on your needs and available resources. Each model architecture has it's pros and cons that define the run-time efficiency and the voice quality.\n",
        "We have many recipes under `TTS/recipes/` that provide a good starting point. For this tutorial, we will be using `GlowTTS`."
      ]
    },
    {
      "cell_type": "markdown",
      "id": "f5876e46-2aee-4bcf-b6b3-9e3c535c553f",
      "metadata": {
        "id": "f5876e46-2aee-4bcf-b6b3-9e3c535c553f"
      },
      "source": [
        "We will begin by initializing the model training configuration."
      ]
    },
    {
      "cell_type": "code",
      "source": [
        "from TTS.tts.configs.shared_configs import CharactersConfig\n",
        "characters_config = CharactersConfig(\n",
        "    pad = '<PAD>',\n",
        "    eos = '।', #'<EOS>', #'।',\n",
        "    bos = '<BOS>',# None,\n",
        "    blank = '<BLNK>',\n",
        "    phonemes = None,\n",
        "    # 여기에 위에서 나온 텍스트 복붙\n",
        "    characters =  \"0123456789CDEFJNPRWXceghinoprtw~가각간갇갈감갑갓갔강갖같개거걱건걷걸검겁것게겜겠겨격결겸겼경계고곡곤곳공과관광괜괭굉교구국군굳굴굿궁권귀그극근글금급기긴길김깃깄깊까깎깐깔깜깝깨깽꺼껍껏껴꼈꼬꼭꽂꽉꽤꾸꿀꿔꿨뀌뀔끄끈끊끌끔끝끼낀낌나낚난날남낫났낮내냅냉냐냥너넌널넓넘넣네넥넨녀년녕노녹놀놈농높놓놔놨누눈눌눴느는늘능늦늪니닌닐님다닥단닫달닭닮담답당닿대댓댔더덕던덜덮데덴델도독돈돌동돼됐되된될됩두둑둘둠둥둬뒀뒤드든들듯등디딨딩따딱딴땀땅때땐떡떨떴떻떼또똑똘똥뜨뜬뜯뜻띄라란랄람랍랐랑랗래랬량러럭런럴럼럽렀렇레렉려력련렬렵렸령로록론롤롭료루룩류률륭르른를름릇릉리린릴림립릿링마막만많말맙맛망맞매맨머먹먼멀멈멋멍메멘멜며면멸명몇모목몬몰몸몹못몽무문묻물뭇뭐뭔뭘미민믿밀밌밍밑바박밖반받발밝밤밥방배밴밸버번벌법벗베벤벨벼벽변별볍보복본볼봅봐봤부분불붓붕붙브블비빈빌빛빠빡빨빵빼뺏뻐뻔뻘뻤뼈뽀뽑뿅뿌뿐쁘쁜삐삔사산살삼삽상새색샌생서석선설섬섭성세센셔션셨소속손솔송쇳쇼수숙술숫숲숴쉐쉬쉽슈슉스슨슬습슷시식신실싫심싶싸싹싼쌀쌉쌍써썼쎄쒯쓰쓴쓸씌씨씩아안않알암앗았앞애앤앨앰야약양얘얜어억언얻얼엄업없었에엔여역연열였영옆예옛오옥온올옮옵옷옹와완왔왕왜외왼요욕용우운울움웃워원월웠웬웰위유육율으은을음의이익인일읽임입잇있잉잊자작잔잖잘잠잡잤장잦재잼쟤쟨저적전절점접정제젠져졌조족존좀좁종좋좌죄죠주죽준줄중줘줬즈즉즘증지직진질짐집짓징짜짝쨌쩌쩐쩔쪽쫄쫙쭉쯤찌찍차착찮참창찾채책챙처천철첫청체첸쳐쳤초총최쵸추축충춰츄츠치칙친침칫카칸칼캐캔캡캤컨컴컵케켈켜켰코콘콜쾌쿠큐크큰클큼키킬킹타탄탈탐탑탕태택탭터턴털테텐텔템토톤톰통투튜트특튼틀티틴틸파판팔패팩퍼펑페펙펜편평폐포폭폰폼표풀품풍퓨프픈플픔피필핑하학한할함합핫항해햇했행향허험헷혀현협혔형호혹혼홀홈홉화확환활황횃회획효후훌훑휠휴흐흑흘흠흡희히힌힐힘\",\n",
        "    punctuations = \"!'(),-.:;? \",\n",
        ")"
      ],
      "metadata": {
        "id": "xqnI-sYEzMGi"
      },
      "id": "xqnI-sYEzMGi",
      "execution_count": 6,
      "outputs": []
    },
    {
      "cell_type": "code",
      "execution_count": 7,
      "id": "5483ca28-39d6-49f8-a18e-4fb53c50ad84",
      "metadata": {
        "id": "5483ca28-39d6-49f8-a18e-4fb53c50ad84"
      },
      "outputs": [],
      "source": [
        "# GlowTTSConfig: all model related values for training, validating and testing.\n",
        "from TTS.tts.configs.glow_tts_config import GlowTTSConfig\n",
        "config = GlowTTSConfig(\n",
        "    batch_size=32,\n",
        "    eval_batch_size=16,\n",
        "    num_loader_workers=4,\n",
        "    num_eval_loader_workers=4,\n",
        "    run_eval=True,\n",
        "    test_delay_epochs=-1,\n",
        "    epochs=100,\n",
        "    text_cleaner=\"basic_cleaners\",\n",
        "    phoneme_cache_path=os.path.join(output_path, \"phoneme_cache\"),\n",
        "    phoneme_language=None,\n",
        "    print_step=25,\n",
        "    print_eval=False,\n",
        "    mixed_precision=True,\n",
        "    output_path=output_path,\n",
        "    datasets=[dataset_config],\n",
        "    save_step=1000,\n",
        "    characters=characters_config\n",
        ")"
      ]
    },
    {
      "cell_type": "markdown",
      "source": [
        "numba 버전 오류 해결"
      ],
      "metadata": {
        "id": "qHqAx_-w_ag4"
      },
      "id": "qHqAx_-w_ag4"
    },
    {
      "cell_type": "code",
      "source": [
        "!pip install numpy==1.21.6\n",
        "!pip uninstall numba\n",
        "!pip install numba==0.55.2"
      ],
      "metadata": {
        "colab": {
          "base_uri": "https://localhost:8080/"
        },
        "id": "IhWP38CF1sBE",
        "outputId": "789f2773-6c65-48e2-8e10-42ec61ef52af"
      },
      "id": "IhWP38CF1sBE",
      "execution_count": 19,
      "outputs": [
        {
          "output_type": "stream",
          "name": "stdout",
          "text": [
            "Looking in indexes: https://pypi.org/simple, https://us-python.pkg.dev/colab-wheels/public/simple/\n",
            "Requirement already satisfied: numpy==1.21.6 in /usr/local/lib/python3.8/dist-packages (1.21.6)\n",
            "Found existing installation: numba 0.55.1\n",
            "Uninstalling numba-0.55.1:\n",
            "  Would remove:\n",
            "    /usr/local/bin/numba\n",
            "    /usr/local/bin/pycc\n",
            "    /usr/local/lib/python3.8/dist-packages/numba-0.55.1.dist-info/*\n",
            "    /usr/local/lib/python3.8/dist-packages/numba/*\n",
            "Proceed (Y/n)? y\n",
            "  Successfully uninstalled numba-0.55.1\n",
            "Looking in indexes: https://pypi.org/simple, https://us-python.pkg.dev/colab-wheels/public/simple/\n",
            "Collecting numba==0.55.2\n",
            "  Using cached numba-0.55.2-cp38-cp38-manylinux2014_x86_64.manylinux_2_17_x86_64.whl (3.4 MB)\n",
            "Requirement already satisfied: llvmlite<0.39,>=0.38.0rc1 in /usr/local/lib/python3.8/dist-packages (from numba==0.55.2) (0.38.1)\n",
            "Requirement already satisfied: setuptools in /usr/local/lib/python3.8/dist-packages (from numba==0.55.2) (57.4.0)\n",
            "Requirement already satisfied: numpy<1.23,>=1.18 in /usr/local/lib/python3.8/dist-packages (from numba==0.55.2) (1.21.6)\n",
            "Installing collected packages: numba\n",
            "\u001b[31mERROR: pip's dependency resolver does not currently take into account all the packages that are installed. This behaviour is the source of the following dependency conflicts.\n",
            "tts 0.11.1 requires numba==0.55.1; python_version < \"3.10\", but you have numba 0.55.2 which is incompatible.\u001b[0m\u001b[31m\n",
            "\u001b[0mSuccessfully installed numba-0.55.2\n"
          ]
        }
      ]
    },
    {
      "cell_type": "markdown",
      "id": "b93ed377-80b7-447b-bd92-106bffa777ee",
      "metadata": {
        "id": "b93ed377-80b7-447b-bd92-106bffa777ee"
      },
      "source": [
        "Next we will initialize the audio processor which is used for feature extraction and audio I/O."
      ]
    },
    {
      "cell_type": "code",
      "execution_count": 8,
      "id": "b1b12f61-f851-4565-84dd-7640947e04ab",
      "metadata": {
        "id": "b1b12f61-f851-4565-84dd-7640947e04ab",
        "colab": {
          "base_uri": "https://localhost:8080/"
        },
        "outputId": "bd256804-0354-4d68-e1b4-d37f5f1c1eff"
      },
      "outputs": [
        {
          "output_type": "stream",
          "name": "stdout",
          "text": [
            " > Setting up Audio Processor...\n",
            " | > sample_rate:22050\n",
            " | > resample:False\n",
            " | > num_mels:80\n",
            " | > log_func:np.log10\n",
            " | > min_level_db:-100\n",
            " | > frame_shift_ms:None\n",
            " | > frame_length_ms:None\n",
            " | > ref_level_db:20\n",
            " | > fft_size:1024\n",
            " | > power:1.5\n",
            " | > preemphasis:0.0\n",
            " | > griffin_lim_iters:60\n",
            " | > signal_norm:True\n",
            " | > symmetric_norm:True\n",
            " | > mel_fmin:0\n",
            " | > mel_fmax:None\n",
            " | > pitch_fmin:1.0\n",
            " | > pitch_fmax:640.0\n",
            " | > spec_gain:20.0\n",
            " | > stft_pad_mode:reflect\n",
            " | > max_norm:4.0\n",
            " | > clip_norm:True\n",
            " | > do_trim_silence:True\n",
            " | > trim_db:45\n",
            " | > do_sound_norm:False\n",
            " | > do_amp_to_db_linear:True\n",
            " | > do_amp_to_db_mel:True\n",
            " | > do_rms_norm:False\n",
            " | > db_level:None\n",
            " | > stats_path:None\n",
            " | > base:10\n",
            " | > hop_length:256\n",
            " | > win_length:1024\n"
          ]
        }
      ],
      "source": [
        "from TTS.utils.audio import AudioProcessor\n",
        "ap = AudioProcessor.init_from_config(config)\n",
        "# 데이터에 맞춰 수정할것: 보통 22050 해두면 얼추 맞음음\n",
        "ap.sample_rate = 16000\n",
        "ap.resample = True"
      ]
    },
    {
      "cell_type": "markdown",
      "id": "1d461683-b05e-403f-815f-8007bda08c38",
      "metadata": {
        "id": "1d461683-b05e-403f-815f-8007bda08c38"
      },
      "source": [
        "Next we will initialize the tokenizer which is used to convert text to sequences of token IDs.  If characters are not defined in the config, default characters are passed to the config."
      ]
    },
    {
      "cell_type": "code",
      "execution_count": 9,
      "id": "014879b7-f18d-44c0-b24a-e10f8002113a",
      "metadata": {
        "id": "014879b7-f18d-44c0-b24a-e10f8002113a"
      },
      "outputs": [],
      "source": [
        "from TTS.tts.utils.text.tokenizer import TTSTokenizer\n",
        "tokenizer, config = TTSTokenizer.init_from_config(config)"
      ]
    },
    {
      "cell_type": "markdown",
      "id": "df3016e1-9e99-4c4f-94e3-fa89231fd978",
      "metadata": {
        "id": "df3016e1-9e99-4c4f-94e3-fa89231fd978"
      },
      "source": [
        "Next we will load data samples. Each sample is a list of ```[text, audio_file_path, speaker_name]```. You can define your custom sample loader returning the list of samples."
      ]
    },
    {
      "cell_type": "code",
      "execution_count": 10,
      "id": "cadd6ada-c8eb-4f79-b8fe-6d72850af5a7",
      "metadata": {
        "id": "cadd6ada-c8eb-4f79-b8fe-6d72850af5a7",
        "colab": {
          "base_uri": "https://localhost:8080/"
        },
        "outputId": "996af8de-d473-4303-d877-51d46389b51d"
      },
      "outputs": [
        {
          "output_type": "stream",
          "name": "stdout",
          "text": [
            " | > Found 2495 files in /content/TTS/tts_train_dir/tts_train_dir/test\n"
          ]
        }
      ],
      "source": [
        "from TTS.tts.datasets import load_tts_samples\n",
        "train_samples, eval_samples = load_tts_samples(\n",
        "    dataset_config,\n",
        "    eval_split=True,\n",
        "    eval_split_max_size=config.eval_split_max_size,\n",
        "    eval_split_size=config.eval_split_size,\n",
        ")"
      ]
    },
    {
      "cell_type": "markdown",
      "id": "db8b451e-1fe1-4aa3-b69e-ab22b925bd19",
      "metadata": {
        "id": "db8b451e-1fe1-4aa3-b69e-ab22b925bd19"
      },
      "source": [
        "Now we're ready to initialize the model.\n",
        "\n",
        "Models take a config object and a speaker manager as input. Config defines the details of the model like the number of layers, the size of the embedding, etc. Speaker manager is used by multi-speaker models."
      ]
    },
    {
      "cell_type": "code",
      "execution_count": 11,
      "id": "ac2ffe3e-ad0c-443e-800c-9b076ee811b4",
      "metadata": {
        "id": "ac2ffe3e-ad0c-443e-800c-9b076ee811b4"
      },
      "outputs": [],
      "source": [
        "from TTS.tts.models.glow_tts import GlowTTS\n",
        "model = GlowTTS(config, ap, tokenizer, speaker_manager=None)"
      ]
    },
    {
      "cell_type": "markdown",
      "id": "e2832c56-889d-49a6-95b6-eb231892ecc6",
      "metadata": {
        "id": "e2832c56-889d-49a6-95b6-eb231892ecc6"
      },
      "source": [
        "Trainer provides a generic API to train all the 🐸TTS models with all its perks like mixed-precision training, distributed training, etc."
      ]
    },
    {
      "cell_type": "code",
      "execution_count": 12,
      "id": "0f609945-4fe0-4d0d-b95e-11d7bfb63ebe",
      "metadata": {
        "id": "0f609945-4fe0-4d0d-b95e-11d7bfb63ebe",
        "colab": {
          "base_uri": "https://localhost:8080/"
        },
        "outputId": "b3a8cf59-ff42-489e-f477-129277ff5b62"
      },
      "outputs": [
        {
          "output_type": "stream",
          "name": "stderr",
          "text": [
            " > Training Environment:\n",
            " | > Current device: 0\n",
            " | > Num. of GPUs: 1\n",
            " | > Num. of CPUs: 2\n",
            " | > Num. of Torch Threads: 1\n",
            " | > Torch seed: 54321\n",
            " | > Torch CUDNN: True\n",
            " | > Torch CUDNN deterministic: False\n",
            " | > Torch CUDNN benchmark: False\n",
            " > Start Tensorboard: tensorboard --logdir=tts_train_dir/run-March-01-2023_04+36AM-16b98622\n",
            "\n",
            " > Model has 28742353 parameters\n"
          ]
        }
      ],
      "source": [
        "from trainer import Trainer, TrainerArgs\n",
        "trainer = Trainer(\n",
        "    TrainerArgs(), config, output_path, model=model, train_samples=train_samples, eval_samples=eval_samples\n",
        ")"
      ]
    },
    {
      "cell_type": "code",
      "source": [
        "!pip install python-mecab-ko"
      ],
      "metadata": {
        "colab": {
          "base_uri": "https://localhost:8080/"
        },
        "id": "3bTy4k95B5LQ",
        "outputId": "991237da-167b-4f59-88d2-e304a5c822c2"
      },
      "id": "3bTy4k95B5LQ",
      "execution_count": 25,
      "outputs": [
        {
          "output_type": "stream",
          "name": "stdout",
          "text": [
            "Looking in indexes: https://pypi.org/simple, https://us-python.pkg.dev/colab-wheels/public/simple/\n",
            "Requirement already satisfied: python-mecab-ko in /usr/local/lib/python3.8/dist-packages (1.3.3)\n",
            "Requirement already satisfied: python-mecab-ko-dic in /usr/local/lib/python3.8/dist-packages (from python-mecab-ko) (2.1.1.post2)\n"
          ]
        }
      ]
    },
    {
      "cell_type": "code",
      "source": [
        "%cd .."
      ],
      "metadata": {
        "colab": {
          "base_uri": "https://localhost:8080/"
        },
        "id": "eTxHgbKhoxxS",
        "outputId": "e2fc7882-a0d8-4af1-9964-41fd129781b6"
      },
      "id": "eTxHgbKhoxxS",
      "execution_count": 28,
      "outputs": [
        {
          "output_type": "stream",
          "name": "stdout",
          "text": [
            "/content/TTS\n"
          ]
        }
      ]
    },
    {
      "cell_type": "markdown",
      "id": "5b320831-dd83-429b-bb6a-473f9d49d321",
      "metadata": {
        "id": "5b320831-dd83-429b-bb6a-473f9d49d321"
      },
      "source": [
        "### AND... 3,2,1... START TRAINING 🚀🚀🚀"
      ]
    },
    {
      "cell_type": "markdown",
      "id": "4cff0c40-2734-40a6-a905-e945a9fb3e98",
      "metadata": {
        "id": "4cff0c40-2734-40a6-a905-e945a9fb3e98"
      },
      "source": [
        "#### 🚀 Run the Tensorboard. 🚀\n",
        "On the notebook and Tensorboard, you can monitor the progress of your model. Also Tensorboard provides certain figures and sample outputs."
      ]
    },
    {
      "cell_type": "code",
      "execution_count": null,
      "id": "5a85cd3b-1646-40ad-a6c2-49323e08eeec",
      "metadata": {
        "id": "5a85cd3b-1646-40ad-a6c2-49323e08eeec"
      },
      "outputs": [],
      "source": [
        "!pip install tensorboard\n",
        "!tensorboard --logdir=tts_train_dir"
      ]
    },
    {
      "cell_type": "code",
      "execution_count": null,
      "id": "d4c07f99-3d1d-4bea-801e-9f33bbff0e9f",
      "metadata": {
        "id": "d4c07f99-3d1d-4bea-801e-9f33bbff0e9f",
        "colab": {
          "base_uri": "https://localhost:8080/"
        },
        "outputId": "4f991d8f-ad4a-4240-8068-7cad82ad3709"
      },
      "outputs": [
        {
          "output_type": "stream",
          "name": "stderr",
          "text": [
            "\n",
            "\u001b[4m\u001b[1m > EPOCH: 0/100\u001b[0m\n",
            " --> tts_train_dir/run-March-01-2023_04+30AM-0000000\n",
            "/usr/local/lib/python3.8/dist-packages/torch/utils/data/dataloader.py:554: UserWarning: This DataLoader will create 4 worker processes in total. Our suggested max number of worker in current system is 2, which is smaller than what this DataLoader is going to create. Please be aware that excessive worker creation might get DataLoader running slow or even freeze, lower the worker number to avoid potential slowness/freeze if necessary.\n",
            "  warnings.warn(_create_warning_msg(\n",
            "\n",
            "\u001b[1m > TRAINING (2023-03-01 04:31:34) \u001b[0m\n"
          ]
        },
        {
          "output_type": "stream",
          "name": "stdout",
          "text": [
            "\n",
            "\n",
            "> DataLoader initialization\n",
            "| > Tokenizer:\n",
            "\t| > add_blank: False\n",
            "\t| > use_eos_bos: False\n",
            "\t| > use_phonemes: False\n",
            "| > Number of instances : 2471\n",
            " | > Preprocessing samples\n",
            " | > Max text length: 54\n",
            " | > Min text length: 2\n",
            " | > Avg text length: 13.5475515985431\n",
            " | \n",
            " | > Max audio length: 64029.0\n",
            " | > Min audio length: 64029.0\n",
            " | > Avg audio length: 64029.0\n",
            " | > Num. instances discarded samples: 0\n",
            " | > Batch group size: 0.\n",
            "1이 진짜 최초의 3d라며 아바타가\n",
            " [!] Character 'd' not found in the vocabulary. Discarding it.\n"
          ]
        },
        {
          "output_type": "stream",
          "name": "stderr",
          "text": [
            "\n",
            "\u001b[1m   --> STEP: 0/78 -- GLOBAL_STEP: 0\u001b[0m\n",
            "     | > current_lr: 0.00000 \n",
            "     | > step_time: 5.02240  (5.02241)\n",
            "     | > loader_time: 2.21260  (2.21255)\n",
            "\n"
          ]
        },
        {
          "output_type": "stream",
          "name": "stdout",
          "text": [
            "아바타 4dx 아니라며\n",
            " [!] Character 'd' not found in the vocabulary. Discarding it.\n",
            "아바타 4dx 아니라며\n",
            " [!] Character 'x' not found in the vocabulary. Discarding it.\n",
            "ej라고 하나?\n",
            " [!] Character 'j' not found in the vocabulary. Discarding it.\n",
            "4d 진짜 재밌는데\n",
            " [!] Character 'd' not found in the vocabulary. Discarding it.\n"
          ]
        },
        {
          "output_type": "stream",
          "name": "stderr",
          "text": [
            "\n",
            "\u001b[1m   --> STEP: 25/78 -- GLOBAL_STEP: 25\u001b[0m\n",
            "     | > loss: 4.53957  (4.89454)\n",
            "     | > log_mle: 0.56062  (0.56070)\n",
            "     | > loss_dur: 3.97895  (4.33384)\n",
            "     | > amp_scaler: 16384.00000  (16384.00000)\n",
            "     | > grad_norm: 10.72633  (10.42657)\n",
            "     | > current_lr: 0.00000 \n",
            "     | > step_time: 0.44550  (0.52304)\n",
            "     | > loader_time: 0.00370  (0.00707)\n",
            "\n"
          ]
        },
        {
          "output_type": "stream",
          "name": "stdout",
          "text": [
            "4d를 그렇게 보고싶어\n",
            " [!] Character 'd' not found in the vocabulary. Discarding it.\n"
          ]
        },
        {
          "output_type": "stream",
          "name": "stderr",
          "text": [
            "\n",
            "\u001b[1m   --> STEP: 50/78 -- GLOBAL_STEP: 50\u001b[0m\n",
            "     | > loss: 4.31247  (4.70554)\n",
            "     | > log_mle: 0.56038  (0.56061)\n",
            "     | > loss_dur: 3.75209  (4.14493)\n",
            "     | > amp_scaler: 16384.00000  (16384.00000)\n",
            "     | > grad_norm: 10.34927  (10.62666)\n",
            "     | > current_lr: 0.00000 \n",
            "     | > step_time: 0.47860  (0.55596)\n",
            "     | > loader_time: 0.00620  (0.00662)\n",
            "\n"
          ]
        },
        {
          "output_type": "stream",
          "name": "stdout",
          "text": [
            "f3 뭐였지?\n",
            " [!] Character 'f' not found in the vocabulary. Discarding it.\n"
          ]
        },
        {
          "output_type": "stream",
          "name": "stderr",
          "text": [
            "\n",
            "\u001b[1m   --> STEP: 75/78 -- GLOBAL_STEP: 75\u001b[0m\n",
            "     | > loss: 5.24223  (4.72302)\n",
            "     | > log_mle: 0.56034  (0.56054)\n",
            "     | > loss_dur: 4.68190  (4.16248)\n",
            "     | > amp_scaler: 16384.00000  (16384.00000)\n",
            "     | > grad_norm: 11.62535  (10.74053)\n",
            "     | > current_lr: 0.00000 \n",
            "     | > step_time: 0.35080  (0.50234)\n",
            "     | > loader_time: 0.00250  (0.00597)\n",
            "\n",
            "\n",
            "\u001b[1m > EVALUATION \u001b[0m\n",
            "\n"
          ]
        },
        {
          "output_type": "stream",
          "name": "stdout",
          "text": [
            "\n",
            "\n",
            "> DataLoader initialization\n",
            "| > Tokenizer:\n",
            "\t| > add_blank: False\n",
            "\t| > use_eos_bos: False\n",
            "\t| > use_phonemes: False\n",
            "| > Number of instances : 24\n",
            " | > Preprocessing samples\n",
            " | > Max text length: 22\n",
            " | > Min text length: 3\n",
            " | > Avg text length: 13.541666666666666\n",
            " | \n",
            " | > Max audio length: 64029.0\n",
            " | > Min audio length: 64029.0\n",
            " | > Avg audio length: 64029.0\n",
            " | > Num. instances discarded samples: 0\n",
            " | > Batch group size: 0.\n",
            " | > Synthesizing test sentences.\n",
            "it took me quite a long time to develop a voice, and now that i have it i'm not going to be silent.\n",
            " [!] Character 'k' not found in the vocabulary. Discarding it.\n",
            "it took me quite a long time to develop a voice, and now that i have it i'm not going to be silent.\n",
            " [!] Character 'm' not found in the vocabulary. Discarding it.\n",
            "it took me quite a long time to develop a voice, and now that i have it i'm not going to be silent.\n",
            " [!] Character 'q' not found in the vocabulary. Discarding it.\n",
            "it took me quite a long time to develop a voice, and now that i have it i'm not going to be silent.\n",
            " [!] Character 'u' not found in the vocabulary. Discarding it.\n",
            "it took me quite a long time to develop a voice, and now that i have it i'm not going to be silent.\n",
            " [!] Character 'a' not found in the vocabulary. Discarding it.\n",
            "it took me quite a long time to develop a voice, and now that i have it i'm not going to be silent.\n",
            " [!] Character 'l' not found in the vocabulary. Discarding it.\n",
            "it took me quite a long time to develop a voice, and now that i have it i'm not going to be silent.\n",
            " [!] Character 'd' not found in the vocabulary. Discarding it.\n",
            "it took me quite a long time to develop a voice, and now that i have it i'm not going to be silent.\n",
            " [!] Character 'v' not found in the vocabulary. Discarding it.\n",
            "it took me quite a long time to develop a voice, and now that i have it i'm not going to be silent.\n",
            " [!] Character 'b' not found in the vocabulary. Discarding it.\n",
            "it took me quite a long time to develop a voice, and now that i have it i'm not going to be silent.\n",
            " [!] Character 's' not found in the vocabulary. Discarding it.\n",
            "i'm sorry dave. i'm afraid i can't do that.\n",
            " [!] Character 'y' not found in the vocabulary. Discarding it.\n",
            "i'm sorry dave. i'm afraid i can't do that.\n",
            " [!] Character 'f' not found in the vocabulary. Discarding it.\n"
          ]
        },
        {
          "output_type": "stream",
          "name": "stderr",
          "text": [
            "\n",
            "  \u001b[1m--> EVAL PERFORMANCE\u001b[0m\n",
            "     | > avg_loader_time: 0.00115 \u001b[0m(+0.00000)\n",
            "     | > avg_loss: 4.79026 \u001b[0m(+0.00000)\n",
            "     | > avg_log_mle: 0.56067 \u001b[0m(+0.00000)\n",
            "     | > avg_loss_dur: 4.22959 \u001b[0m(+0.00000)\n",
            "\n",
            " > BEST MODEL : tts_train_dir/run-March-01-2023_04+30AM-0000000/best_model_78.pth\n",
            "\n",
            "\u001b[4m\u001b[1m > EPOCH: 1/100\u001b[0m\n",
            " --> tts_train_dir/run-March-01-2023_04+30AM-0000000\n",
            "/usr/local/lib/python3.8/dist-packages/torch/utils/data/dataloader.py:554: UserWarning: This DataLoader will create 4 worker processes in total. Our suggested max number of worker in current system is 2, which is smaller than what this DataLoader is going to create. Please be aware that excessive worker creation might get DataLoader running slow or even freeze, lower the worker number to avoid potential slowness/freeze if necessary.\n",
            "  warnings.warn(_create_warning_msg(\n",
            "\n",
            "\u001b[1m > TRAINING (2023-03-01 04:32:31) \u001b[0m\n"
          ]
        },
        {
          "output_type": "stream",
          "name": "stdout",
          "text": [
            "\n",
            "\n",
            "> DataLoader initialization\n",
            "| > Tokenizer:\n",
            "\t| > add_blank: False\n",
            "\t| > use_eos_bos: False\n",
            "\t| > use_phonemes: False\n",
            "\t| > 12 not found characters:\n",
            "\t| > k\n",
            "\t| > m\n",
            "\t| > q\n",
            "\t| > u\n",
            "\t| > a\n",
            "\t| > l\n",
            "\t| > d\n",
            "\t| > v\n",
            "\t| > b\n",
            "\t| > s\n",
            "\t| > y\n",
            "\t| > f\n",
            "| > Number of instances : 2471\n",
            " | > Preprocessing samples\n",
            " | > Max text length: 54\n",
            " | > Min text length: 2\n",
            " | > Avg text length: 13.5475515985431\n",
            " | \n",
            " | > Max audio length: 64029.0\n",
            " | > Min audio length: 64029.0\n",
            " | > Avg audio length: 64029.0\n",
            " | > Num. instances discarded samples: 0\n",
            " | > Batch group size: 0.\n",
            "아바타 4dx 아니라며\n",
            " [!] Character 'x' not found in the vocabulary. Discarding it.\n",
            "ej라고 하나?\n",
            " [!] Character 'j' not found in the vocabulary. Discarding it.\n"
          ]
        },
        {
          "output_type": "stream",
          "name": "stderr",
          "text": [
            " ! Run is kept in tts_train_dir/run-March-01-2023_04+30AM-0000000\n"
          ]
        }
      ],
      "source": [
        "trainer.fit()"
      ]
    },
    {
      "cell_type": "markdown",
      "id": "9f6dc959",
      "metadata": {
        "id": "9f6dc959"
      },
      "source": [
        "## ✅ Test the model\n",
        "\n",
        "We made it! 🙌\n",
        "\n",
        "Let's kick off the testing run, which displays performance metrics.\n",
        "\n",
        "We're committing the cardinal sin of ML 😈 (aka - testing on our training data) so you don't want to deploy this model into production. In this notebook we're focusing on the workflow itself, so it's forgivable 😇\n",
        "\n",
        "You can see from the test output that our tiny model has overfit to the data, and basically memorized this one sentence.\n",
        "\n",
        "When you start training your own models, make sure your testing data doesn't include your training data 😅"
      ]
    },
    {
      "cell_type": "markdown",
      "id": "99fada7a-592f-4a09-9369-e6f3d82de3a0",
      "metadata": {
        "id": "99fada7a-592f-4a09-9369-e6f3d82de3a0"
      },
      "source": [
        "Let's get the latest saved checkpoint. "
      ]
    },
    {
      "cell_type": "code",
      "execution_count": 7,
      "id": "6dd47ed5-da8e-4bf9-b524-d686630d6961",
      "metadata": {
        "id": "6dd47ed5-da8e-4bf9-b524-d686630d6961"
      },
      "outputs": [],
      "source": [
        "import glob, os\n",
        "output_path = \"tts_train_dir\"\n",
        "ckpts = sorted([f for f in glob.glob(output_path+\"/*/*.pth\")])\n",
        "configs = sorted([f for f in glob.glob(output_path+\"/*/*.json\")])"
      ]
    },
    {
      "cell_type": "code",
      "source": [
        "import locale\n",
        "locale.getpreferredencoding = lambda: \"UTF-8\""
      ],
      "metadata": {
        "id": "Xu4ARNhoUF4o"
      },
      "id": "Xu4ARNhoUF4o",
      "execution_count": 4,
      "outputs": []
    },
    {
      "cell_type": "code",
      "source": [
        "!pip install TTS"
      ],
      "metadata": {
        "colab": {
          "base_uri": "https://localhost:8080/",
          "height": 1000
        },
        "id": "0ptvQY2LWKXg",
        "outputId": "2c24b971-4614-4794-d346-5b28f982b486"
      },
      "id": "0ptvQY2LWKXg",
      "execution_count": 14,
      "outputs": [
        {
          "output_type": "stream",
          "name": "stdout",
          "text": [
            "Looking in indexes: https://pypi.org/simple, https://us-python.pkg.dev/colab-wheels/public/simple/\n",
            "Collecting TTS\n",
            "  Using cached TTS-0.11.1-cp38-cp38-manylinux1_x86_64.whl (604 kB)\n",
            "Requirement already satisfied: pandas in /usr/local/lib/python3.8/dist-packages (from TTS) (1.3.5)\n",
            "Requirement already satisfied: numba==0.55.1 in /usr/local/lib/python3.8/dist-packages (from TTS) (0.55.1)\n",
            "Requirement already satisfied: inflect==5.6.0 in /usr/local/lib/python3.8/dist-packages (from TTS) (5.6.0)\n",
            "Requirement already satisfied: flask in /usr/local/lib/python3.8/dist-packages (from TTS) (2.2.3)\n",
            "Requirement already satisfied: tqdm in /usr/local/lib/python3.8/dist-packages (from TTS) (4.64.1)\n",
            "Requirement already satisfied: jamo in /usr/local/lib/python3.8/dist-packages (from TTS) (0.4.1)\n",
            "Requirement already satisfied: torch>=1.7 in /usr/local/lib/python3.8/dist-packages (from TTS) (1.13.1+cu116)\n",
            "Requirement already satisfied: cython==0.29.28 in /usr/local/lib/python3.8/dist-packages (from TTS) (0.29.28)\n",
            "Requirement already satisfied: pypinyin in /usr/local/lib/python3.8/dist-packages (from TTS) (0.48.0)\n",
            "Requirement already satisfied: soundfile in /usr/local/lib/python3.8/dist-packages (from TTS) (0.12.1)\n",
            "Requirement already satisfied: numpy==1.21.6 in /usr/local/lib/python3.8/dist-packages (from TTS) (1.21.6)\n",
            "Requirement already satisfied: g2pkk>=0.1.1 in /usr/local/lib/python3.8/dist-packages (from TTS) (0.1.2)\n",
            "Requirement already satisfied: coqpit>=0.0.16 in /usr/local/lib/python3.8/dist-packages (from TTS) (0.0.17)\n",
            "Requirement already satisfied: anyascii in /usr/local/lib/python3.8/dist-packages (from TTS) (0.3.1)\n",
            "Requirement already satisfied: pyyaml in /usr/local/lib/python3.8/dist-packages (from TTS) (6.0)\n",
            "Requirement already satisfied: nltk in /usr/local/lib/python3.8/dist-packages (from TTS) (3.7)\n",
            "Requirement already satisfied: trainer==0.0.20 in /usr/local/lib/python3.8/dist-packages (from TTS) (0.0.20)\n",
            "Requirement already satisfied: scipy>=1.4.0 in /usr/local/lib/python3.8/dist-packages (from TTS) (1.7.3)\n",
            "Requirement already satisfied: pysbd in /usr/local/lib/python3.8/dist-packages (from TTS) (0.3.4)\n",
            "Requirement already satisfied: unidic-lite==1.0.8 in /usr/local/lib/python3.8/dist-packages (from TTS) (1.0.8)\n",
            "Requirement already satisfied: torchaudio in /usr/local/lib/python3.8/dist-packages (from TTS) (0.13.1+cu116)\n",
            "Requirement already satisfied: gruut[de]==2.2.3 in /usr/local/lib/python3.8/dist-packages (from TTS) (2.2.3)\n",
            "Requirement already satisfied: packaging in /usr/local/lib/python3.8/dist-packages (from TTS) (23.0)\n",
            "Requirement already satisfied: fsspec>=2021.04.0 in /usr/local/lib/python3.8/dist-packages (from TTS) (2023.1.0)\n",
            "Requirement already satisfied: matplotlib in /usr/local/lib/python3.8/dist-packages (from TTS) (3.5.3)\n",
            "Requirement already satisfied: mecab-python3==1.0.5 in /usr/local/lib/python3.8/dist-packages (from TTS) (1.0.5)\n",
            "Requirement already satisfied: librosa==0.8.0 in /usr/local/lib/python3.8/dist-packages (from TTS) (0.8.0)\n",
            "Requirement already satisfied: jieba in /usr/local/lib/python3.8/dist-packages (from TTS) (0.42.1)\n",
            "Requirement already satisfied: umap-learn==0.5.1 in /usr/local/lib/python3.8/dist-packages (from TTS) (0.5.1)\n",
            "Requirement already satisfied: python-crfsuite~=0.9.7 in /usr/local/lib/python3.8/dist-packages (from gruut[de]==2.2.3->TTS) (0.9.9)\n",
            "Requirement already satisfied: Babel<3.0.0,>=2.8.0 in /usr/local/lib/python3.8/dist-packages (from gruut[de]==2.2.3->TTS) (2.11.0)\n",
            "Requirement already satisfied: importlib-resources in /usr/local/lib/python3.8/dist-packages (from gruut[de]==2.2.3->TTS) (5.12.0)\n",
            "Requirement already satisfied: dateparser~=1.1.0 in /usr/local/lib/python3.8/dist-packages (from gruut[de]==2.2.3->TTS) (1.1.7)\n",
            "Requirement already satisfied: jsonlines~=1.2.0 in /usr/local/lib/python3.8/dist-packages (from gruut[de]==2.2.3->TTS) (1.2.0)\n",
            "Requirement already satisfied: networkx<3.0.0,>=2.5.0 in /usr/local/lib/python3.8/dist-packages (from gruut[de]==2.2.3->TTS) (2.8.8)\n",
            "Requirement already satisfied: gruut-lang-en~=2.0.0 in /usr/local/lib/python3.8/dist-packages (from gruut[de]==2.2.3->TTS) (2.0.0)\n",
            "Requirement already satisfied: gruut-ipa<1.0,>=0.12.0 in /usr/local/lib/python3.8/dist-packages (from gruut[de]==2.2.3->TTS) (0.13.0)\n",
            "Requirement already satisfied: num2words<1.0.0,>=0.5.10 in /usr/local/lib/python3.8/dist-packages (from gruut[de]==2.2.3->TTS) (0.5.12)\n",
            "Requirement already satisfied: gruut-lang-de~=2.0.0 in /usr/local/lib/python3.8/dist-packages (from gruut[de]==2.2.3->TTS) (2.0.0)\n",
            "Requirement already satisfied: joblib>=0.14 in /usr/local/lib/python3.8/dist-packages (from librosa==0.8.0->TTS) (1.2.0)\n",
            "Requirement already satisfied: pooch>=1.0 in /usr/local/lib/python3.8/dist-packages (from librosa==0.8.0->TTS) (1.6.0)\n",
            "Requirement already satisfied: resampy>=0.2.2 in /usr/local/lib/python3.8/dist-packages (from librosa==0.8.0->TTS) (0.4.2)\n",
            "Requirement already satisfied: audioread>=2.0.0 in /usr/local/lib/python3.8/dist-packages (from librosa==0.8.0->TTS) (3.0.0)\n",
            "Requirement already satisfied: decorator>=3.0.0 in /usr/local/lib/python3.8/dist-packages (from librosa==0.8.0->TTS) (4.4.2)\n",
            "Requirement already satisfied: scikit-learn!=0.19.0,>=0.14.0 in /usr/local/lib/python3.8/dist-packages (from librosa==0.8.0->TTS) (1.0.2)\n",
            "Requirement already satisfied: llvmlite<0.39,>=0.38.0rc1 in /usr/local/lib/python3.8/dist-packages (from numba==0.55.1->TTS) (0.38.1)\n",
            "Requirement already satisfied: setuptools in /usr/local/lib/python3.8/dist-packages (from numba==0.55.1->TTS) (57.4.0)\n",
            "Requirement already satisfied: psutil in /usr/local/lib/python3.8/dist-packages (from trainer==0.0.20->TTS) (5.4.8)\n",
            "Requirement already satisfied: protobuf<3.20,>=3.9.2 in /usr/local/lib/python3.8/dist-packages (from trainer==0.0.20->TTS) (3.19.6)\n",
            "Requirement already satisfied: tensorboardX in /usr/local/lib/python3.8/dist-packages (from trainer==0.0.20->TTS) (2.6)\n",
            "Requirement already satisfied: pynndescent>=0.5 in /usr/local/lib/python3.8/dist-packages (from umap-learn==0.5.1->TTS) (0.5.8)\n",
            "Requirement already satisfied: cffi>=1.0 in /usr/local/lib/python3.8/dist-packages (from soundfile->TTS) (1.15.1)\n",
            "Requirement already satisfied: typing-extensions in /usr/local/lib/python3.8/dist-packages (from torch>=1.7->TTS) (4.5.0)\n",
            "Requirement already satisfied: click>=8.0 in /usr/local/lib/python3.8/dist-packages (from flask->TTS) (8.1.3)\n",
            "Requirement already satisfied: importlib-metadata>=3.6.0 in /usr/local/lib/python3.8/dist-packages (from flask->TTS) (6.0.0)\n",
            "Requirement already satisfied: Werkzeug>=2.2.2 in /usr/local/lib/python3.8/dist-packages (from flask->TTS) (2.2.3)\n",
            "Requirement already satisfied: Jinja2>=3.0 in /usr/local/lib/python3.8/dist-packages (from flask->TTS) (3.1.2)\n",
            "Requirement already satisfied: itsdangerous>=2.0 in /usr/local/lib/python3.8/dist-packages (from flask->TTS) (2.1.2)\n",
            "Requirement already satisfied: pyparsing>=2.2.1 in /usr/local/lib/python3.8/dist-packages (from matplotlib->TTS) (3.0.9)\n",
            "Requirement already satisfied: python-dateutil>=2.7 in /usr/local/lib/python3.8/dist-packages (from matplotlib->TTS) (2.8.2)\n",
            "Requirement already satisfied: fonttools>=4.22.0 in /usr/local/lib/python3.8/dist-packages (from matplotlib->TTS) (4.38.0)\n",
            "Requirement already satisfied: cycler>=0.10 in /usr/local/lib/python3.8/dist-packages (from matplotlib->TTS) (0.11.0)\n",
            "Requirement already satisfied: kiwisolver>=1.0.1 in /usr/local/lib/python3.8/dist-packages (from matplotlib->TTS) (1.4.4)\n",
            "Requirement already satisfied: pillow>=6.2.0 in /usr/local/lib/python3.8/dist-packages (from matplotlib->TTS) (8.4.0)\n",
            "Requirement already satisfied: regex>=2021.8.3 in /usr/local/lib/python3.8/dist-packages (from nltk->TTS) (2022.6.2)\n",
            "Requirement already satisfied: pytz>=2017.3 in /usr/local/lib/python3.8/dist-packages (from pandas->TTS) (2022.7.1)\n",
            "Requirement already satisfied: pycparser in /usr/local/lib/python3.8/dist-packages (from cffi>=1.0->soundfile->TTS) (2.21)\n",
            "Requirement already satisfied: tzlocal in /usr/local/lib/python3.8/dist-packages (from dateparser~=1.1.0->gruut[de]==2.2.3->TTS) (1.5.1)\n",
            "Requirement already satisfied: zipp>=0.5 in /usr/local/lib/python3.8/dist-packages (from importlib-metadata>=3.6.0->flask->TTS) (3.15.0)\n",
            "Requirement already satisfied: MarkupSafe>=2.0 in /usr/local/lib/python3.8/dist-packages (from Jinja2>=3.0->flask->TTS) (2.1.2)\n",
            "Requirement already satisfied: six in /usr/local/lib/python3.8/dist-packages (from jsonlines~=1.2.0->gruut[de]==2.2.3->TTS) (1.15.0)\n",
            "Requirement already satisfied: docopt>=0.6.2 in /usr/local/lib/python3.8/dist-packages (from num2words<1.0.0,>=0.5.10->gruut[de]==2.2.3->TTS) (0.6.2)\n",
            "Requirement already satisfied: requests>=2.19.0 in /usr/local/lib/python3.8/dist-packages (from pooch>=1.0->librosa==0.8.0->TTS) (2.25.1)\n",
            "Requirement already satisfied: appdirs>=1.3.0 in /usr/local/lib/python3.8/dist-packages (from pooch>=1.0->librosa==0.8.0->TTS) (1.4.4)\n",
            "Requirement already satisfied: threadpoolctl>=2.0.0 in /usr/local/lib/python3.8/dist-packages (from scikit-learn!=0.19.0,>=0.14.0->librosa==0.8.0->TTS) (3.1.0)\n",
            "Requirement already satisfied: chardet<5,>=3.0.2 in /usr/local/lib/python3.8/dist-packages (from requests>=2.19.0->pooch>=1.0->librosa==0.8.0->TTS) (4.0.0)\n",
            "Requirement already satisfied: idna<3,>=2.5 in /usr/local/lib/python3.8/dist-packages (from requests>=2.19.0->pooch>=1.0->librosa==0.8.0->TTS) (2.10)\n",
            "Requirement already satisfied: certifi>=2017.4.17 in /usr/local/lib/python3.8/dist-packages (from requests>=2.19.0->pooch>=1.0->librosa==0.8.0->TTS) (2022.12.7)\n",
            "Requirement already satisfied: urllib3<1.27,>=1.21.1 in /usr/local/lib/python3.8/dist-packages (from requests>=2.19.0->pooch>=1.0->librosa==0.8.0->TTS) (1.26.14)\n",
            "Installing collected packages: TTS\n",
            "Successfully installed TTS-0.11.1\n"
          ]
        },
        {
          "output_type": "display_data",
          "data": {
            "application/vnd.colab-display-data+json": {
              "pip_warning": {
                "packages": [
                  "TTS"
                ]
              }
            }
          },
          "metadata": {}
        }
      ]
    },
    {
      "cell_type": "code",
      "execution_count": 24,
      "id": "dd42bc7a",
      "metadata": {
        "id": "dd42bc7a",
        "colab": {
          "base_uri": "https://localhost:8080/"
        },
        "outputId": "32ae1927-4e20-4c91-f46f-367c94c3ff0a"
      },
      "outputs": [
        {
          "output_type": "stream",
          "name": "stdout",
          "text": [
            " > Using model: glow_tts\n",
            " > Setting up Audio Processor...\n",
            " | > sample_rate:22050\n",
            " | > resample:False\n",
            " | > num_mels:80\n",
            " | > log_func:np.log10\n",
            " | > min_level_db:-100\n",
            " | > frame_shift_ms:None\n",
            " | > frame_length_ms:None\n",
            " | > ref_level_db:20\n",
            " | > fft_size:1024\n",
            " | > power:1.5\n",
            " | > preemphasis:0.0\n",
            " | > griffin_lim_iters:60\n",
            " | > signal_norm:True\n",
            " | > symmetric_norm:True\n",
            " | > mel_fmin:0\n",
            " | > mel_fmax:None\n",
            " | > pitch_fmin:1.0\n",
            " | > pitch_fmax:640.0\n",
            " | > spec_gain:20.0\n",
            " | > stft_pad_mode:reflect\n",
            " | > max_norm:4.0\n",
            " | > clip_norm:True\n",
            " | > do_trim_silence:True\n",
            " | > trim_db:45\n",
            " | > do_sound_norm:False\n",
            " | > do_amp_to_db_linear:True\n",
            " | > do_amp_to_db_mel:True\n",
            " | > do_rms_norm:False\n",
            " | > db_level:None\n",
            " | > stats_path:None\n",
            " | > base:10\n",
            " | > hop_length:256\n",
            " | > win_length:1024\n",
            " > Text: 에메랄드\n",
            " > Text splitted to sentences.\n",
            "['에메랄드']\n",
            " > Processing time: 0.620692253112793\n",
            " > Real-time factor: 0.5565331888881379\n",
            " > Saving output to out.wav\n"
          ]
        }
      ],
      "source": [
        " !tts --text \"여기에 텍스트 입력\" \\\n",
        "      --model_path \"path/to/checkpoint.pth\" \\\n",
        "      --config_path 'path/to/config.json' \\\n",
        "      --out_path out.wav"
      ]
    },
    {
      "cell_type": "markdown",
      "id": "81cbcb3f-d952-469b-a0d8-8941cd7af670",
      "metadata": {
        "id": "81cbcb3f-d952-469b-a0d8-8941cd7af670"
      },
      "source": [
        "## 📣 Listen to the synthesized wave 📣"
      ]
    },
    {
      "cell_type": "code",
      "execution_count": 25,
      "id": "e0000bd6-6763-4a10-a74d-911dd08ebcff",
      "metadata": {
        "id": "e0000bd6-6763-4a10-a74d-911dd08ebcff",
        "colab": {
          "base_uri": "https://localhost:8080/",
          "height": 74
        },
        "outputId": "6f4af9c8-9957-49c2-a936-219f3f99595e"
      },
      "outputs": [
        {
          "output_type": "execute_result",
          "data": {
            "text/plain": [
              "<IPython.lib.display.Audio object>"
            ],
            "text/html": [
              "\n",
              "                <audio  controls=\"controls\" >\n",
              "                    <source src=\"data:audio/x-wav;base64,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\" type=\"audio/x-wav\" />\n",
              "                    Your browser does not support the audio element.\n",
              "                </audio>\n",
              "              "
            ]
          },
          "metadata": {},
          "execution_count": 25
        }
      ],
      "source": [
        "import IPython\n",
        "IPython.display.Audio(\"out.wav\")"
      ]
    },
    {
      "cell_type": "markdown",
      "id": "13914401-cad1-494a-b701-474e52829138",
      "metadata": {
        "id": "13914401-cad1-494a-b701-474e52829138"
      },
      "source": [
        "## 🎉 Congratulations! 🎉 You now have trained your first TTS model! \n",
        "Follow up with the next tutorials to learn more advanced material."
      ]
    }
  ],
  "metadata": {
    "kernelspec": {
      "display_name": "Python 3 (ipykernel)",
      "language": "python",
      "name": "python3"
    },
    "language_info": {
      "codemirror_mode": {
        "name": "ipython",
        "version": 3
      },
      "file_extension": ".py",
      "mimetype": "text/x-python",
      "name": "python",
      "nbconvert_exporter": "python",
      "pygments_lexer": "ipython3",
      "version": "3.8.10"
    },
    "colab": {
      "provenance": []
    },
    "accelerator": "GPU",
    "gpuClass": "standard"
  },
  "nbformat": 4,
  "nbformat_minor": 5
}